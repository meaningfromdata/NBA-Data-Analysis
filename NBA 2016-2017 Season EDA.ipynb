{
 "cells": [
  {
   "cell_type": "code",
   "execution_count": 1,
   "metadata": {
    "ExecuteTime": {
     "end_time": "2018-03-01T21:33:25.886032Z",
     "start_time": "2018-03-01T21:33:22.761871Z"
    },
    "collapsed": true
   },
   "outputs": [],
   "source": [
    "import pandas as pd\n",
    "import numpy as np\n",
    "import seaborn as sns\n",
    "%matplotlib inline"
   ]
  },
  {
   "cell_type": "code",
   "execution_count": 2,
   "metadata": {
    "ExecuteTime": {
     "end_time": "2018-03-01T21:33:26.278825Z",
     "start_time": "2018-03-01T21:33:25.889535Z"
    },
    "collapsed": true
   },
   "outputs": [],
   "source": [
    "# path specification requires double back slashes (\\\\) or forward slash (/) \n",
    "\n",
    "df = pd.read_excel(\"C:\\\\Users\\\\David\\\\Documents\\\\Data Science Related\\\\Datasets\\\\NBA\\\\2016-to-2017_NBA_Historical_Schedule.xlsx\", header=0, sheet_name=0)"
   ]
  },
  {
   "cell_type": "code",
   "execution_count": 3,
   "metadata": {
    "ExecuteTime": {
     "end_time": "2018-03-01T21:33:26.319353Z",
     "start_time": "2018-03-01T21:33:26.285330Z"
    }
   },
   "outputs": [
    {
     "data": {
      "text/html": [
       "<div>\n",
       "<style>\n",
       "    .dataframe thead tr:only-child th {\n",
       "        text-align: right;\n",
       "    }\n",
       "\n",
       "    .dataframe thead th {\n",
       "        text-align: left;\n",
       "    }\n",
       "\n",
       "    .dataframe tbody tr th {\n",
       "        vertical-align: top;\n",
       "    }\n",
       "</style>\n",
       "<table border=\"1\" class=\"dataframe\">\n",
       "  <thead>\n",
       "    <tr style=\"text-align: right;\">\n",
       "      <th></th>\n",
       "      <th>DATASET</th>\n",
       "      <th>DATE</th>\n",
       "      <th>TIME</th>\n",
       "      <th>ROAD TEAM</th>\n",
       "      <th>HOME TEAM</th>\n",
       "      <th>TOTAL GAME MINUTES</th>\n",
       "      <th>ROAD TEAM FINAL SCORE</th>\n",
       "      <th>HOME TEAM FINAL SCORE</th>\n",
       "      <th>ROAD TEAM REST</th>\n",
       "      <th>HOME TEAM REST</th>\n",
       "    </tr>\n",
       "  </thead>\n",
       "  <tbody>\n",
       "    <tr>\n",
       "      <th>NaN</th>\n",
       "      <td>2016-2017 Regular Season</td>\n",
       "      <td>2016-10-25</td>\n",
       "      <td>20:00:00</td>\n",
       "      <td>New York</td>\n",
       "      <td>Cleveland</td>\n",
       "      <td>240</td>\n",
       "      <td>88</td>\n",
       "      <td>117</td>\n",
       "      <td>3+</td>\n",
       "      <td>3+</td>\n",
       "    </tr>\n",
       "    <tr>\n",
       "      <th>NaN</th>\n",
       "      <td>2016-2017 Regular Season</td>\n",
       "      <td>2016-10-25</td>\n",
       "      <td>22:00:00</td>\n",
       "      <td>Utah</td>\n",
       "      <td>Portland</td>\n",
       "      <td>240</td>\n",
       "      <td>104</td>\n",
       "      <td>113</td>\n",
       "      <td>3+</td>\n",
       "      <td>3+</td>\n",
       "    </tr>\n",
       "    <tr>\n",
       "      <th>NaN</th>\n",
       "      <td>2016-2017 Regular Season</td>\n",
       "      <td>2016-10-25</td>\n",
       "      <td>22:30:00</td>\n",
       "      <td>San Antonio</td>\n",
       "      <td>Golden State</td>\n",
       "      <td>240</td>\n",
       "      <td>129</td>\n",
       "      <td>100</td>\n",
       "      <td>3+</td>\n",
       "      <td>3+</td>\n",
       "    </tr>\n",
       "    <tr>\n",
       "      <th>NaN</th>\n",
       "      <td>2016-2017 Regular Season</td>\n",
       "      <td>2016-10-26</td>\n",
       "      <td>19:00:00</td>\n",
       "      <td>Miami</td>\n",
       "      <td>Orlando</td>\n",
       "      <td>240</td>\n",
       "      <td>108</td>\n",
       "      <td>96</td>\n",
       "      <td>3+</td>\n",
       "      <td>3+</td>\n",
       "    </tr>\n",
       "    <tr>\n",
       "      <th>NaN</th>\n",
       "      <td>2016-2017 Regular Season</td>\n",
       "      <td>2016-10-26</td>\n",
       "      <td>19:00:00</td>\n",
       "      <td>Dallas</td>\n",
       "      <td>Indiana</td>\n",
       "      <td>265</td>\n",
       "      <td>121</td>\n",
       "      <td>130</td>\n",
       "      <td>3+</td>\n",
       "      <td>3+</td>\n",
       "    </tr>\n",
       "  </tbody>\n",
       "</table>\n",
       "</div>"
      ],
      "text/plain": [
       "                      DATASET       DATE      TIME    ROAD TEAM     HOME TEAM  \\\n",
       "NaN  2016-2017 Regular Season 2016-10-25  20:00:00     New York     Cleveland   \n",
       "NaN  2016-2017 Regular Season 2016-10-25  22:00:00         Utah      Portland   \n",
       "NaN  2016-2017 Regular Season 2016-10-25  22:30:00  San Antonio  Golden State   \n",
       "NaN  2016-2017 Regular Season 2016-10-26  19:00:00        Miami       Orlando   \n",
       "NaN  2016-2017 Regular Season 2016-10-26  19:00:00       Dallas       Indiana   \n",
       "\n",
       "     TOTAL GAME MINUTES  ROAD TEAM FINAL SCORE  HOME TEAM FINAL SCORE  \\\n",
       "NaN                 240                     88                    117   \n",
       "NaN                 240                    104                    113   \n",
       "NaN                 240                    129                    100   \n",
       "NaN                 240                    108                     96   \n",
       "NaN                 265                    121                    130   \n",
       "\n",
       "    ROAD TEAM REST HOME TEAM REST  \n",
       "NaN             3+             3+  \n",
       "NaN             3+             3+  \n",
       "NaN             3+             3+  \n",
       "NaN             3+             3+  \n",
       "NaN             3+             3+  "
      ]
     },
     "execution_count": 3,
     "metadata": {},
     "output_type": "execute_result"
    }
   ],
   "source": [
    "df.head()"
   ]
  },
  {
   "cell_type": "code",
   "execution_count": 4,
   "metadata": {
    "ExecuteTime": {
     "end_time": "2018-03-01T21:33:26.384900Z",
     "start_time": "2018-03-01T21:33:26.329360Z"
    }
   },
   "outputs": [
    {
     "data": {
      "text/html": [
       "<div>\n",
       "<style>\n",
       "    .dataframe thead tr:only-child th {\n",
       "        text-align: right;\n",
       "    }\n",
       "\n",
       "    .dataframe thead th {\n",
       "        text-align: left;\n",
       "    }\n",
       "\n",
       "    .dataframe tbody tr th {\n",
       "        vertical-align: top;\n",
       "    }\n",
       "</style>\n",
       "<table border=\"1\" class=\"dataframe\">\n",
       "  <thead>\n",
       "    <tr style=\"text-align: right;\">\n",
       "      <th></th>\n",
       "      <th>DATASET</th>\n",
       "      <th>DATE</th>\n",
       "      <th>TIME</th>\n",
       "      <th>ROAD TEAM</th>\n",
       "      <th>HOME TEAM</th>\n",
       "      <th>TOTAL GAME MINUTES</th>\n",
       "      <th>ROAD TEAM FINAL SCORE</th>\n",
       "      <th>HOME TEAM FINAL SCORE</th>\n",
       "      <th>ROAD TEAM REST</th>\n",
       "      <th>HOME TEAM REST</th>\n",
       "    </tr>\n",
       "  </thead>\n",
       "  <tbody>\n",
       "    <tr>\n",
       "      <th>NaN</th>\n",
       "      <td>2017 Playoffs</td>\n",
       "      <td>2017-06-01</td>\n",
       "      <td>NaN</td>\n",
       "      <td>Cleveland</td>\n",
       "      <td>Golden State</td>\n",
       "      <td>240</td>\n",
       "      <td>91</td>\n",
       "      <td>113</td>\n",
       "      <td>3+</td>\n",
       "      <td>3+</td>\n",
       "    </tr>\n",
       "    <tr>\n",
       "      <th>NaN</th>\n",
       "      <td>2017 Playoffs</td>\n",
       "      <td>2017-06-04</td>\n",
       "      <td>NaN</td>\n",
       "      <td>Cleveland</td>\n",
       "      <td>Golden State</td>\n",
       "      <td>240</td>\n",
       "      <td>113</td>\n",
       "      <td>132</td>\n",
       "      <td>2</td>\n",
       "      <td>2</td>\n",
       "    </tr>\n",
       "    <tr>\n",
       "      <th>NaN</th>\n",
       "      <td>2017 Playoffs</td>\n",
       "      <td>2017-06-07</td>\n",
       "      <td>NaN</td>\n",
       "      <td>Golden State</td>\n",
       "      <td>Cleveland</td>\n",
       "      <td>240</td>\n",
       "      <td>118</td>\n",
       "      <td>113</td>\n",
       "      <td>2</td>\n",
       "      <td>2</td>\n",
       "    </tr>\n",
       "    <tr>\n",
       "      <th>NaN</th>\n",
       "      <td>2017 Playoffs</td>\n",
       "      <td>2017-06-09</td>\n",
       "      <td>NaN</td>\n",
       "      <td>Golden State</td>\n",
       "      <td>Cleveland</td>\n",
       "      <td>240</td>\n",
       "      <td>116</td>\n",
       "      <td>137</td>\n",
       "      <td>1</td>\n",
       "      <td>1</td>\n",
       "    </tr>\n",
       "    <tr>\n",
       "      <th>NaN</th>\n",
       "      <td>2017 Playoffs</td>\n",
       "      <td>2017-06-12</td>\n",
       "      <td>NaN</td>\n",
       "      <td>Cleveland</td>\n",
       "      <td>Golden State</td>\n",
       "      <td>240</td>\n",
       "      <td>120</td>\n",
       "      <td>129</td>\n",
       "      <td>2</td>\n",
       "      <td>2</td>\n",
       "    </tr>\n",
       "  </tbody>\n",
       "</table>\n",
       "</div>"
      ],
      "text/plain": [
       "           DATASET       DATE TIME     ROAD TEAM     HOME TEAM  \\\n",
       "NaN  2017 Playoffs 2017-06-01  NaN     Cleveland  Golden State   \n",
       "NaN  2017 Playoffs 2017-06-04  NaN     Cleveland  Golden State   \n",
       "NaN  2017 Playoffs 2017-06-07  NaN  Golden State     Cleveland   \n",
       "NaN  2017 Playoffs 2017-06-09  NaN  Golden State     Cleveland   \n",
       "NaN  2017 Playoffs 2017-06-12  NaN     Cleveland  Golden State   \n",
       "\n",
       "     TOTAL GAME MINUTES  ROAD TEAM FINAL SCORE  HOME TEAM FINAL SCORE  \\\n",
       "NaN                 240                     91                    113   \n",
       "NaN                 240                    113                    132   \n",
       "NaN                 240                    118                    113   \n",
       "NaN                 240                    116                    137   \n",
       "NaN                 240                    120                    129   \n",
       "\n",
       "    ROAD TEAM REST HOME TEAM REST  \n",
       "NaN             3+             3+  \n",
       "NaN              2              2  \n",
       "NaN              2              2  \n",
       "NaN              1              1  \n",
       "NaN              2              2  "
      ]
     },
     "execution_count": 4,
     "metadata": {},
     "output_type": "execute_result"
    }
   ],
   "source": [
    "df.tail()"
   ]
  },
  {
   "cell_type": "code",
   "execution_count": 5,
   "metadata": {
    "ExecuteTime": {
     "end_time": "2018-03-01T21:33:26.424928Z",
     "start_time": "2018-03-01T21:33:26.399911Z"
    }
   },
   "outputs": [
    {
     "data": {
      "text/plain": [
       "(1309, 10)"
      ]
     },
     "execution_count": 5,
     "metadata": {},
     "output_type": "execute_result"
    }
   ],
   "source": [
    "df.shape"
   ]
  },
  {
   "cell_type": "code",
   "execution_count": 6,
   "metadata": {
    "ExecuteTime": {
     "end_time": "2018-03-01T21:33:26.462955Z",
     "start_time": "2018-03-01T21:33:26.431435Z"
    }
   },
   "outputs": [
    {
     "data": {
      "text/plain": [
       "NaN    2016-2017 Regular Season\n",
       "NaN    2016-2017 Regular Season\n",
       "NaN    2016-2017 Regular Season\n",
       "NaN    2016-2017 Regular Season\n",
       "NaN    2016-2017 Regular Season\n",
       "NaN    2016-2017 Regular Season\n",
       "NaN    2016-2017 Regular Season\n",
       "NaN    2016-2017 Regular Season\n",
       "NaN    2016-2017 Regular Season\n",
       "NaN    2016-2017 Regular Season\n",
       "NaN    2016-2017 Regular Season\n",
       "NaN    2016-2017 Regular Season\n",
       "NaN    2016-2017 Regular Season\n",
       "NaN    2016-2017 Regular Season\n",
       "NaN    2016-2017 Regular Season\n",
       "NaN    2016-2017 Regular Season\n",
       "NaN    2016-2017 Regular Season\n",
       "NaN    2016-2017 Regular Season\n",
       "NaN    2016-2017 Regular Season\n",
       "NaN    2016-2017 Regular Season\n",
       "NaN    2016-2017 Regular Season\n",
       "NaN    2016-2017 Regular Season\n",
       "NaN    2016-2017 Regular Season\n",
       "NaN    2016-2017 Regular Season\n",
       "NaN    2016-2017 Regular Season\n",
       "NaN    2016-2017 Regular Season\n",
       "NaN    2016-2017 Regular Season\n",
       "NaN    2016-2017 Regular Season\n",
       "NaN    2016-2017 Regular Season\n",
       "NaN    2016-2017 Regular Season\n",
       "                 ...           \n",
       "NaN               2017 Playoffs\n",
       "NaN               2017 Playoffs\n",
       "NaN               2017 Playoffs\n",
       "NaN               2017 Playoffs\n",
       "NaN               2017 Playoffs\n",
       "NaN               2017 Playoffs\n",
       "NaN               2017 Playoffs\n",
       "NaN               2017 Playoffs\n",
       "NaN               2017 Playoffs\n",
       "NaN               2017 Playoffs\n",
       "NaN               2017 Playoffs\n",
       "NaN               2017 Playoffs\n",
       "NaN               2017 Playoffs\n",
       "NaN               2017 Playoffs\n",
       "NaN               2017 Playoffs\n",
       "NaN               2017 Playoffs\n",
       "NaN               2017 Playoffs\n",
       "NaN               2017 Playoffs\n",
       "NaN               2017 Playoffs\n",
       "NaN               2017 Playoffs\n",
       "NaN               2017 Playoffs\n",
       "NaN               2017 Playoffs\n",
       "NaN               2017 Playoffs\n",
       "NaN               2017 Playoffs\n",
       "NaN               2017 Playoffs\n",
       "NaN               2017 Playoffs\n",
       "NaN               2017 Playoffs\n",
       "NaN               2017 Playoffs\n",
       "NaN               2017 Playoffs\n",
       "NaN               2017 Playoffs\n",
       "Name: DATASET, Length: 1309, dtype: object"
      ]
     },
     "execution_count": 6,
     "metadata": {},
     "output_type": "execute_result"
    }
   ],
   "source": [
    "df.DATASET"
   ]
  },
  {
   "cell_type": "code",
   "execution_count": 7,
   "metadata": {
    "ExecuteTime": {
     "end_time": "2018-03-01T21:33:26.477966Z",
     "start_time": "2018-03-01T21:33:26.466458Z"
    },
    "collapsed": true
   },
   "outputs": [],
   "source": [
    "# make dataframe containing regular season games only \n",
    "\n",
    "rs = df[df['DATASET'].map(lambda DATASET: 'Regular Season' in DATASET)]"
   ]
  },
  {
   "cell_type": "code",
   "execution_count": 8,
   "metadata": {
    "ExecuteTime": {
     "end_time": "2018-03-01T21:33:26.518995Z",
     "start_time": "2018-03-01T21:33:26.482971Z"
    }
   },
   "outputs": [
    {
     "data": {
      "text/html": [
       "<div>\n",
       "<style>\n",
       "    .dataframe thead tr:only-child th {\n",
       "        text-align: right;\n",
       "    }\n",
       "\n",
       "    .dataframe thead th {\n",
       "        text-align: left;\n",
       "    }\n",
       "\n",
       "    .dataframe tbody tr th {\n",
       "        vertical-align: top;\n",
       "    }\n",
       "</style>\n",
       "<table border=\"1\" class=\"dataframe\">\n",
       "  <thead>\n",
       "    <tr style=\"text-align: right;\">\n",
       "      <th></th>\n",
       "      <th>DATASET</th>\n",
       "      <th>DATE</th>\n",
       "      <th>TIME</th>\n",
       "      <th>ROAD TEAM</th>\n",
       "      <th>HOME TEAM</th>\n",
       "      <th>TOTAL GAME MINUTES</th>\n",
       "      <th>ROAD TEAM FINAL SCORE</th>\n",
       "      <th>HOME TEAM FINAL SCORE</th>\n",
       "      <th>ROAD TEAM REST</th>\n",
       "      <th>HOME TEAM REST</th>\n",
       "    </tr>\n",
       "  </thead>\n",
       "  <tbody>\n",
       "    <tr>\n",
       "      <th>NaN</th>\n",
       "      <td>2016-2017 Regular Season</td>\n",
       "      <td>2017-04-12</td>\n",
       "      <td>20:00:00</td>\n",
       "      <td>Atlanta</td>\n",
       "      <td>Indiana</td>\n",
       "      <td>240</td>\n",
       "      <td>86</td>\n",
       "      <td>104</td>\n",
       "      <td>3IN4-B2B</td>\n",
       "      <td>1</td>\n",
       "    </tr>\n",
       "    <tr>\n",
       "      <th>NaN</th>\n",
       "      <td>2016-2017 Regular Season</td>\n",
       "      <td>2017-04-12</td>\n",
       "      <td>22:00:00</td>\n",
       "      <td>San Antonio</td>\n",
       "      <td>Utah</td>\n",
       "      <td>240</td>\n",
       "      <td>97</td>\n",
       "      <td>101</td>\n",
       "      <td>1</td>\n",
       "      <td>1</td>\n",
       "    </tr>\n",
       "    <tr>\n",
       "      <th>NaN</th>\n",
       "      <td>2016-2017 Regular Season</td>\n",
       "      <td>2017-04-12</td>\n",
       "      <td>22:30:00</td>\n",
       "      <td>Sacramento</td>\n",
       "      <td>LA Clippers</td>\n",
       "      <td>240</td>\n",
       "      <td>95</td>\n",
       "      <td>115</td>\n",
       "      <td>3IN4-B2B</td>\n",
       "      <td>1</td>\n",
       "    </tr>\n",
       "    <tr>\n",
       "      <th>NaN</th>\n",
       "      <td>2016-2017 Regular Season</td>\n",
       "      <td>2017-04-12</td>\n",
       "      <td>22:30:00</td>\n",
       "      <td>LA Lakers</td>\n",
       "      <td>Golden State</td>\n",
       "      <td>240</td>\n",
       "      <td>94</td>\n",
       "      <td>109</td>\n",
       "      <td>3IN4-B2B</td>\n",
       "      <td>1</td>\n",
       "    </tr>\n",
       "    <tr>\n",
       "      <th>NaN</th>\n",
       "      <td>2016-2017 Regular Season</td>\n",
       "      <td>2017-04-12</td>\n",
       "      <td>22:30:00</td>\n",
       "      <td>New Orleans</td>\n",
       "      <td>Portland</td>\n",
       "      <td>240</td>\n",
       "      <td>103</td>\n",
       "      <td>100</td>\n",
       "      <td>B2B</td>\n",
       "      <td>1</td>\n",
       "    </tr>\n",
       "  </tbody>\n",
       "</table>\n",
       "</div>"
      ],
      "text/plain": [
       "                      DATASET       DATE      TIME    ROAD TEAM     HOME TEAM  \\\n",
       "NaN  2016-2017 Regular Season 2017-04-12  20:00:00      Atlanta       Indiana   \n",
       "NaN  2016-2017 Regular Season 2017-04-12  22:00:00  San Antonio          Utah   \n",
       "NaN  2016-2017 Regular Season 2017-04-12  22:30:00   Sacramento   LA Clippers   \n",
       "NaN  2016-2017 Regular Season 2017-04-12  22:30:00    LA Lakers  Golden State   \n",
       "NaN  2016-2017 Regular Season 2017-04-12  22:30:00  New Orleans      Portland   \n",
       "\n",
       "     TOTAL GAME MINUTES  ROAD TEAM FINAL SCORE  HOME TEAM FINAL SCORE  \\\n",
       "NaN                 240                     86                    104   \n",
       "NaN                 240                     97                    101   \n",
       "NaN                 240                     95                    115   \n",
       "NaN                 240                     94                    109   \n",
       "NaN                 240                    103                    100   \n",
       "\n",
       "    ROAD TEAM REST HOME TEAM REST  \n",
       "NaN       3IN4-B2B              1  \n",
       "NaN              1              1  \n",
       "NaN       3IN4-B2B              1  \n",
       "NaN       3IN4-B2B              1  \n",
       "NaN            B2B              1  "
      ]
     },
     "execution_count": 8,
     "metadata": {},
     "output_type": "execute_result"
    }
   ],
   "source": [
    "rs.tail()"
   ]
  },
  {
   "cell_type": "code",
   "execution_count": 9,
   "metadata": {
    "ExecuteTime": {
     "end_time": "2018-03-01T21:33:26.545514Z",
     "start_time": "2018-03-01T21:33:26.525000Z"
    },
    "collapsed": true
   },
   "outputs": [],
   "source": [
    "# index by 'DATE'\n",
    "\n",
    "rs=rs.set_index('DATE')"
   ]
  },
  {
   "cell_type": "code",
   "execution_count": 10,
   "metadata": {
    "ExecuteTime": {
     "end_time": "2018-03-01T21:33:26.589546Z",
     "start_time": "2018-03-01T21:33:26.550518Z"
    }
   },
   "outputs": [
    {
     "data": {
      "text/html": [
       "<div>\n",
       "<style>\n",
       "    .dataframe thead tr:only-child th {\n",
       "        text-align: right;\n",
       "    }\n",
       "\n",
       "    .dataframe thead th {\n",
       "        text-align: left;\n",
       "    }\n",
       "\n",
       "    .dataframe tbody tr th {\n",
       "        vertical-align: top;\n",
       "    }\n",
       "</style>\n",
       "<table border=\"1\" class=\"dataframe\">\n",
       "  <thead>\n",
       "    <tr style=\"text-align: right;\">\n",
       "      <th></th>\n",
       "      <th>DATASET</th>\n",
       "      <th>TIME</th>\n",
       "      <th>ROAD TEAM</th>\n",
       "      <th>HOME TEAM</th>\n",
       "      <th>TOTAL GAME MINUTES</th>\n",
       "      <th>ROAD TEAM FINAL SCORE</th>\n",
       "      <th>HOME TEAM FINAL SCORE</th>\n",
       "      <th>ROAD TEAM REST</th>\n",
       "      <th>HOME TEAM REST</th>\n",
       "    </tr>\n",
       "    <tr>\n",
       "      <th>DATE</th>\n",
       "      <th></th>\n",
       "      <th></th>\n",
       "      <th></th>\n",
       "      <th></th>\n",
       "      <th></th>\n",
       "      <th></th>\n",
       "      <th></th>\n",
       "      <th></th>\n",
       "      <th></th>\n",
       "    </tr>\n",
       "  </thead>\n",
       "  <tbody>\n",
       "    <tr>\n",
       "      <th>2016-10-25</th>\n",
       "      <td>2016-2017 Regular Season</td>\n",
       "      <td>20:00:00</td>\n",
       "      <td>New York</td>\n",
       "      <td>Cleveland</td>\n",
       "      <td>240</td>\n",
       "      <td>88</td>\n",
       "      <td>117</td>\n",
       "      <td>3+</td>\n",
       "      <td>3+</td>\n",
       "    </tr>\n",
       "    <tr>\n",
       "      <th>2016-10-25</th>\n",
       "      <td>2016-2017 Regular Season</td>\n",
       "      <td>22:00:00</td>\n",
       "      <td>Utah</td>\n",
       "      <td>Portland</td>\n",
       "      <td>240</td>\n",
       "      <td>104</td>\n",
       "      <td>113</td>\n",
       "      <td>3+</td>\n",
       "      <td>3+</td>\n",
       "    </tr>\n",
       "    <tr>\n",
       "      <th>2016-10-25</th>\n",
       "      <td>2016-2017 Regular Season</td>\n",
       "      <td>22:30:00</td>\n",
       "      <td>San Antonio</td>\n",
       "      <td>Golden State</td>\n",
       "      <td>240</td>\n",
       "      <td>129</td>\n",
       "      <td>100</td>\n",
       "      <td>3+</td>\n",
       "      <td>3+</td>\n",
       "    </tr>\n",
       "    <tr>\n",
       "      <th>2016-10-26</th>\n",
       "      <td>2016-2017 Regular Season</td>\n",
       "      <td>19:00:00</td>\n",
       "      <td>Miami</td>\n",
       "      <td>Orlando</td>\n",
       "      <td>240</td>\n",
       "      <td>108</td>\n",
       "      <td>96</td>\n",
       "      <td>3+</td>\n",
       "      <td>3+</td>\n",
       "    </tr>\n",
       "    <tr>\n",
       "      <th>2016-10-26</th>\n",
       "      <td>2016-2017 Regular Season</td>\n",
       "      <td>19:00:00</td>\n",
       "      <td>Dallas</td>\n",
       "      <td>Indiana</td>\n",
       "      <td>265</td>\n",
       "      <td>121</td>\n",
       "      <td>130</td>\n",
       "      <td>3+</td>\n",
       "      <td>3+</td>\n",
       "    </tr>\n",
       "  </tbody>\n",
       "</table>\n",
       "</div>"
      ],
      "text/plain": [
       "                             DATASET      TIME    ROAD TEAM     HOME TEAM  \\\n",
       "DATE                                                                        \n",
       "2016-10-25  2016-2017 Regular Season  20:00:00     New York     Cleveland   \n",
       "2016-10-25  2016-2017 Regular Season  22:00:00         Utah      Portland   \n",
       "2016-10-25  2016-2017 Regular Season  22:30:00  San Antonio  Golden State   \n",
       "2016-10-26  2016-2017 Regular Season  19:00:00        Miami       Orlando   \n",
       "2016-10-26  2016-2017 Regular Season  19:00:00       Dallas       Indiana   \n",
       "\n",
       "            TOTAL GAME MINUTES  ROAD TEAM FINAL SCORE  HOME TEAM FINAL SCORE  \\\n",
       "DATE                                                                           \n",
       "2016-10-25                 240                     88                    117   \n",
       "2016-10-25                 240                    104                    113   \n",
       "2016-10-25                 240                    129                    100   \n",
       "2016-10-26                 240                    108                     96   \n",
       "2016-10-26                 265                    121                    130   \n",
       "\n",
       "           ROAD TEAM REST HOME TEAM REST  \n",
       "DATE                                      \n",
       "2016-10-25             3+             3+  \n",
       "2016-10-25             3+             3+  \n",
       "2016-10-25             3+             3+  \n",
       "2016-10-26             3+             3+  \n",
       "2016-10-26             3+             3+  "
      ]
     },
     "execution_count": 10,
     "metadata": {},
     "output_type": "execute_result"
    }
   ],
   "source": [
    "rs.head()"
   ]
  },
  {
   "cell_type": "code",
   "execution_count": 11,
   "metadata": {
    "ExecuteTime": {
     "end_time": "2018-03-01T21:33:26.609059Z",
     "start_time": "2018-03-01T21:33:26.597051Z"
    },
    "collapsed": true
   },
   "outputs": [],
   "source": [
    "# make dataframe containing playoff games only \n",
    "\n",
    "po = df[df['DATASET'].map(lambda DATASET: 'Playoffs' in DATASET)]"
   ]
  },
  {
   "cell_type": "code",
   "execution_count": 12,
   "metadata": {
    "ExecuteTime": {
     "end_time": "2018-03-01T21:33:26.680609Z",
     "start_time": "2018-03-01T21:33:26.614063Z"
    }
   },
   "outputs": [
    {
     "data": {
      "text/html": [
       "<div>\n",
       "<style>\n",
       "    .dataframe thead tr:only-child th {\n",
       "        text-align: right;\n",
       "    }\n",
       "\n",
       "    .dataframe thead th {\n",
       "        text-align: left;\n",
       "    }\n",
       "\n",
       "    .dataframe tbody tr th {\n",
       "        vertical-align: top;\n",
       "    }\n",
       "</style>\n",
       "<table border=\"1\" class=\"dataframe\">\n",
       "  <thead>\n",
       "    <tr style=\"text-align: right;\">\n",
       "      <th></th>\n",
       "      <th>DATASET</th>\n",
       "      <th>DATE</th>\n",
       "      <th>TIME</th>\n",
       "      <th>ROAD TEAM</th>\n",
       "      <th>HOME TEAM</th>\n",
       "      <th>TOTAL GAME MINUTES</th>\n",
       "      <th>ROAD TEAM FINAL SCORE</th>\n",
       "      <th>HOME TEAM FINAL SCORE</th>\n",
       "      <th>ROAD TEAM REST</th>\n",
       "      <th>HOME TEAM REST</th>\n",
       "    </tr>\n",
       "  </thead>\n",
       "  <tbody>\n",
       "    <tr>\n",
       "      <th>NaN</th>\n",
       "      <td>2017 Playoffs</td>\n",
       "      <td>2017-04-15</td>\n",
       "      <td>NaN</td>\n",
       "      <td>Indiana</td>\n",
       "      <td>Cleveland</td>\n",
       "      <td>240</td>\n",
       "      <td>108</td>\n",
       "      <td>109</td>\n",
       "      <td>3+</td>\n",
       "      <td>3+</td>\n",
       "    </tr>\n",
       "    <tr>\n",
       "      <th>NaN</th>\n",
       "      <td>2017 Playoffs</td>\n",
       "      <td>2017-04-15</td>\n",
       "      <td>NaN</td>\n",
       "      <td>Milwaukee</td>\n",
       "      <td>Toronto</td>\n",
       "      <td>240</td>\n",
       "      <td>97</td>\n",
       "      <td>83</td>\n",
       "      <td>3+</td>\n",
       "      <td>3+</td>\n",
       "    </tr>\n",
       "    <tr>\n",
       "      <th>NaN</th>\n",
       "      <td>2017 Playoffs</td>\n",
       "      <td>2017-04-15</td>\n",
       "      <td>NaN</td>\n",
       "      <td>Memphis</td>\n",
       "      <td>San Antonio</td>\n",
       "      <td>240</td>\n",
       "      <td>82</td>\n",
       "      <td>111</td>\n",
       "      <td>3+</td>\n",
       "      <td>3+</td>\n",
       "    </tr>\n",
       "    <tr>\n",
       "      <th>NaN</th>\n",
       "      <td>2017 Playoffs</td>\n",
       "      <td>2017-04-15</td>\n",
       "      <td>NaN</td>\n",
       "      <td>Utah</td>\n",
       "      <td>LA Clippers</td>\n",
       "      <td>240</td>\n",
       "      <td>97</td>\n",
       "      <td>95</td>\n",
       "      <td>3+</td>\n",
       "      <td>3+</td>\n",
       "    </tr>\n",
       "    <tr>\n",
       "      <th>NaN</th>\n",
       "      <td>2017 Playoffs</td>\n",
       "      <td>2017-04-16</td>\n",
       "      <td>NaN</td>\n",
       "      <td>Atlanta</td>\n",
       "      <td>Washington</td>\n",
       "      <td>240</td>\n",
       "      <td>107</td>\n",
       "      <td>114</td>\n",
       "      <td>3+</td>\n",
       "      <td>3+</td>\n",
       "    </tr>\n",
       "  </tbody>\n",
       "</table>\n",
       "</div>"
      ],
      "text/plain": [
       "           DATASET       DATE TIME  ROAD TEAM    HOME TEAM  \\\n",
       "NaN  2017 Playoffs 2017-04-15  NaN    Indiana    Cleveland   \n",
       "NaN  2017 Playoffs 2017-04-15  NaN  Milwaukee      Toronto   \n",
       "NaN  2017 Playoffs 2017-04-15  NaN    Memphis  San Antonio   \n",
       "NaN  2017 Playoffs 2017-04-15  NaN       Utah  LA Clippers   \n",
       "NaN  2017 Playoffs 2017-04-16  NaN    Atlanta   Washington   \n",
       "\n",
       "     TOTAL GAME MINUTES  ROAD TEAM FINAL SCORE  HOME TEAM FINAL SCORE  \\\n",
       "NaN                 240                    108                    109   \n",
       "NaN                 240                     97                     83   \n",
       "NaN                 240                     82                    111   \n",
       "NaN                 240                     97                     95   \n",
       "NaN                 240                    107                    114   \n",
       "\n",
       "    ROAD TEAM REST HOME TEAM REST  \n",
       "NaN             3+             3+  \n",
       "NaN             3+             3+  \n",
       "NaN             3+             3+  \n",
       "NaN             3+             3+  \n",
       "NaN             3+             3+  "
      ]
     },
     "execution_count": 12,
     "metadata": {},
     "output_type": "execute_result"
    }
   ],
   "source": [
    "po.head()"
   ]
  },
  {
   "cell_type": "code",
   "execution_count": 13,
   "metadata": {
    "ExecuteTime": {
     "end_time": "2018-03-01T21:33:26.752162Z",
     "start_time": "2018-03-01T21:33:26.685113Z"
    }
   },
   "outputs": [
    {
     "data": {
      "text/plain": [
       "(79, 10)"
      ]
     },
     "execution_count": 13,
     "metadata": {},
     "output_type": "execute_result"
    }
   ],
   "source": [
    "po.shape"
   ]
  },
  {
   "cell_type": "code",
   "execution_count": 14,
   "metadata": {
    "ExecuteTime": {
     "end_time": "2018-03-01T21:33:26.777679Z",
     "start_time": "2018-03-01T21:33:26.761170Z"
    },
    "collapsed": true
   },
   "outputs": [],
   "source": [
    "# index by 'DATE'\n",
    "\n",
    "po=po.set_index('DATE')"
   ]
  },
  {
   "cell_type": "code",
   "execution_count": 15,
   "metadata": {
    "ExecuteTime": {
     "end_time": "2018-03-01T21:33:26.801196Z",
     "start_time": "2018-03-01T21:33:26.781682Z"
    },
    "collapsed": true
   },
   "outputs": [],
   "source": [
    "# calculate number of times home team won in regular season \n",
    "\n",
    "rs_homeTeamWins = list(rs['HOME TEAM FINAL SCORE']>rs['ROAD TEAM FINAL SCORE']).count(True)\n"
   ]
  },
  {
   "cell_type": "code",
   "execution_count": 16,
   "metadata": {
    "ExecuteTime": {
     "end_time": "2018-03-01T21:33:27.024356Z",
     "start_time": "2018-03-01T21:33:26.806200Z"
    }
   },
   "outputs": [
    {
     "data": {
      "text/plain": [
       "0.58"
      ]
     },
     "execution_count": 16,
     "metadata": {},
     "output_type": "execute_result"
    }
   ],
   "source": [
    "# compute proportion of home team wins during regular season\n",
    "\n",
    "round(rs_homeTeamWins/rs.shape[0],2)"
   ]
  },
  {
   "cell_type": "code",
   "execution_count": 17,
   "metadata": {
    "ExecuteTime": {
     "end_time": "2018-03-01T21:33:27.063381Z",
     "start_time": "2018-03-01T21:33:27.033861Z"
    },
    "collapsed": true
   },
   "outputs": [],
   "source": [
    "# calculate number of times home team won in playoffs\n",
    "po_homeTeamWins = list(po['HOME TEAM FINAL SCORE']>po['ROAD TEAM FINAL SCORE']).count(True)"
   ]
  },
  {
   "cell_type": "code",
   "execution_count": 18,
   "metadata": {
    "ExecuteTime": {
     "end_time": "2018-03-01T21:33:27.079394Z",
     "start_time": "2018-03-01T21:33:27.066884Z"
    }
   },
   "outputs": [
    {
     "data": {
      "text/plain": [
       "0.57"
      ]
     },
     "execution_count": 18,
     "metadata": {},
     "output_type": "execute_result"
    }
   ],
   "source": [
    "# compute proportion of home team wins during playoffs\n",
    "\n",
    "round(po_homeTeamWins/po.shape[0],2)"
   ]
  },
  {
   "cell_type": "code",
   "execution_count": 19,
   "metadata": {
    "ExecuteTime": {
     "end_time": "2018-03-01T21:33:27.129428Z",
     "start_time": "2018-03-01T21:33:27.083397Z"
    },
    "collapsed": true
   },
   "outputs": [],
   "source": [
    "# IS THIS A SIGNIFICANT DIFFERENCE?  NEED SOME HYPOTHESIS TEST FOR PROPORTIONS HERE"
   ]
  },
  {
   "cell_type": "code",
   "execution_count": 20,
   "metadata": {
    "ExecuteTime": {
     "end_time": "2018-03-01T21:33:27.158958Z",
     "start_time": "2018-03-01T21:33:27.132933Z"
    },
    "collapsed": true
   },
   "outputs": [],
   "source": [
    "# get team names for regular season\n",
    "\n",
    "rs_teams = set(rs['HOME TEAM'])"
   ]
  },
  {
   "cell_type": "code",
   "execution_count": 21,
   "metadata": {
    "ExecuteTime": {
     "end_time": "2018-03-01T21:33:27.352086Z",
     "start_time": "2018-03-01T21:33:27.163453Z"
    },
    "collapsed": true
   },
   "outputs": [],
   "source": [
    "# initialize empty list for tallying winnning percentages for home and away games by team \n",
    "\n",
    "teamWinPct_dict={}\n",
    "\n",
    "for team in list(rs_teams):\n",
    "    # subset home games for each team and calculate percent wins at home\n",
    "    team_homeGames = rs[rs['HOME TEAM'] == team]\n",
    "    team_homeGames_Wins = list(team_homeGames['HOME TEAM FINAL SCORE'] > team_homeGames['ROAD TEAM FINAL SCORE']).count(True)\n",
    "    team_homeGames_pctWins = round(team_homeGames_Wins/team_homeGames.shape[0],2)\n",
    "    \n",
    "    # subset away games for each team and calculate percent wins on road\n",
    "    team_awayGames = rs[rs['ROAD TEAM'] == team]\n",
    "    team_awayGames_Wins = list(team_awayGames['HOME TEAM FINAL SCORE'] < team_awayGames['ROAD TEAM FINAL SCORE']).count(True)\n",
    "    team_awayGames_pctWins = round(team_awayGames_Wins/team_awayGames.shape[0],2)\n",
    "    \n",
    "    # compute difference of home game winning pct and away game winning pct (team_homeGames_pctWins-team_awayGames_pctWins)\n",
    "    team_pctWins_homeAwayDiff = team_homeGames_pctWins-team_awayGames_pctWins\n",
    "    \n",
    "    \n",
    "    # append results to dictionary with team name as key\n",
    "    # teamPct = {team: (team_homeGames_pctWins, team_awayGames_pctWins, team_pctWins_homeAwayDiff)}\n",
    "    # teamWinPct_dict.update(teamPct)\n",
    "    \n",
    "    # append results to dictionary with team name as outer key and 'home', 'away' and 'diff' as inner (nested) keys\n",
    "    teamWinPct_dict[team]={}\n",
    "    teamWinPct_dict[team]['home'] = team_homeGames_pctWins\n",
    "    teamWinPct_dict[team]['away'] = team_awayGames_pctWins\n",
    "    teamWinPct_dict[team]['diff'] = team_homeGames_pctWins - team_awayGames_pctWins\n",
    "    "
   ]
  },
  {
   "cell_type": "code",
   "execution_count": 22,
   "metadata": {
    "ExecuteTime": {
     "end_time": "2018-03-01T21:33:27.372101Z",
     "start_time": "2018-03-01T21:33:27.355089Z"
    }
   },
   "outputs": [
    {
     "data": {
      "text/plain": [
       "{'Atlanta': {'away': 0.49, 'diff': 0.07000000000000006, 'home': 0.56},\n",
       " 'Boston': {'away': 0.56, 'diff': 0.16999999999999993, 'home': 0.73},\n",
       " 'Brooklyn': {'away': 0.17, 'diff': 0.15, 'home': 0.32},\n",
       " 'Charlotte': {'away': 0.34, 'diff': 0.2, 'home': 0.54},\n",
       " 'Chicago': {'away': 0.39, 'diff': 0.21999999999999997, 'home': 0.61},\n",
       " 'Cleveland': {'away': 0.49, 'diff': 0.27, 'home': 0.76},\n",
       " 'Dallas': {'away': 0.29, 'diff': 0.22000000000000003, 'home': 0.51},\n",
       " 'Denver': {'away': 0.44, 'diff': 0.10000000000000003, 'home': 0.54},\n",
       " 'Detroit': {'away': 0.32, 'diff': 0.26999999999999996, 'home': 0.59},\n",
       " 'Golden State': {'away': 0.76, 'diff': 0.12, 'home': 0.88},\n",
       " 'Houston': {'away': 0.61, 'diff': 0.12, 'home': 0.73},\n",
       " 'Indiana': {'away': 0.32, 'diff': 0.38999999999999996, 'home': 0.71},\n",
       " 'LA Clippers': {'away': 0.54, 'diff': 0.16999999999999993, 'home': 0.71},\n",
       " 'LA Lakers': {'away': 0.22, 'diff': 0.18999999999999997, 'home': 0.41},\n",
       " 'Memphis': {'away': 0.46, 'diff': 0.12999999999999995, 'home': 0.59},\n",
       " 'Miami': {'away': 0.44, 'diff': 0.12000000000000005, 'home': 0.56},\n",
       " 'Milwaukee': {'away': 0.46, 'diff': 0.10000000000000003, 'home': 0.56},\n",
       " 'Minnesota': {'away': 0.27, 'diff': 0.21999999999999997, 'home': 0.49},\n",
       " 'New Orleans': {'away': 0.32, 'diff': 0.19, 'home': 0.51},\n",
       " 'New York': {'away': 0.29, 'diff': 0.17000000000000004, 'home': 0.46},\n",
       " 'Oklahoma City': {'away': 0.46, 'diff': 0.22000000000000003, 'home': 0.68},\n",
       " 'Orlando': {'away': 0.32, 'diff': 0.07, 'home': 0.39},\n",
       " 'Philadelphia': {'away': 0.27, 'diff': 0.13999999999999996, 'home': 0.41},\n",
       " 'Phoenix': {'away': 0.22, 'diff': 0.15, 'home': 0.37},\n",
       " 'Portland': {'away': 0.39, 'diff': 0.21999999999999997, 'home': 0.61},\n",
       " 'Sacramento': {'away': 0.37, 'diff': 0.03999999999999998, 'home': 0.41},\n",
       " 'San Antonio': {'away': 0.73, 'diff': 0.030000000000000027, 'home': 0.76},\n",
       " 'Toronto': {'away': 0.56, 'diff': 0.12, 'home': 0.68},\n",
       " 'Utah': {'away': 0.54, 'diff': 0.16999999999999993, 'home': 0.71},\n",
       " 'Washington': {'away': 0.46, 'diff': 0.26999999999999996, 'home': 0.73}}"
      ]
     },
     "execution_count": 22,
     "metadata": {},
     "output_type": "execute_result"
    }
   ],
   "source": [
    "teamWinPct_dict"
   ]
  },
  {
   "cell_type": "code",
   "execution_count": 23,
   "metadata": {
    "ExecuteTime": {
     "end_time": "2018-03-01T21:33:27.403624Z",
     "start_time": "2018-03-01T21:33:27.376104Z"
    }
   },
   "outputs": [
    {
     "data": {
      "text/plain": [
       "0.49"
      ]
     },
     "execution_count": 23,
     "metadata": {},
     "output_type": "execute_result"
    }
   ],
   "source": [
    "teamWinPct_dict['Cleveland']['away']"
   ]
  },
  {
   "cell_type": "code",
   "execution_count": 24,
   "metadata": {
    "ExecuteTime": {
     "end_time": "2018-03-01T21:33:27.439149Z",
     "start_time": "2018-03-01T21:33:27.410129Z"
    },
    "collapsed": true
   },
   "outputs": [],
   "source": [
    "# convert dictionary back to dataframe to facilitate plotting and computing data\n",
    "\n",
    "teamWinPct_df = pd.DataFrame(teamWinPct_dict)"
   ]
  },
  {
   "cell_type": "code",
   "execution_count": 25,
   "metadata": {
    "ExecuteTime": {
     "end_time": "2018-03-01T21:33:27.538719Z",
     "start_time": "2018-03-01T21:33:27.445154Z"
    }
   },
   "outputs": [
    {
     "data": {
      "text/html": [
       "<div>\n",
       "<style>\n",
       "    .dataframe thead tr:only-child th {\n",
       "        text-align: right;\n",
       "    }\n",
       "\n",
       "    .dataframe thead th {\n",
       "        text-align: left;\n",
       "    }\n",
       "\n",
       "    .dataframe tbody tr th {\n",
       "        vertical-align: top;\n",
       "    }\n",
       "</style>\n",
       "<table border=\"1\" class=\"dataframe\">\n",
       "  <thead>\n",
       "    <tr style=\"text-align: right;\">\n",
       "      <th></th>\n",
       "      <th>Atlanta</th>\n",
       "      <th>Boston</th>\n",
       "      <th>Brooklyn</th>\n",
       "      <th>Charlotte</th>\n",
       "      <th>Chicago</th>\n",
       "      <th>Cleveland</th>\n",
       "      <th>Dallas</th>\n",
       "      <th>Denver</th>\n",
       "      <th>Detroit</th>\n",
       "      <th>Golden State</th>\n",
       "      <th>...</th>\n",
       "      <th>Oklahoma City</th>\n",
       "      <th>Orlando</th>\n",
       "      <th>Philadelphia</th>\n",
       "      <th>Phoenix</th>\n",
       "      <th>Portland</th>\n",
       "      <th>Sacramento</th>\n",
       "      <th>San Antonio</th>\n",
       "      <th>Toronto</th>\n",
       "      <th>Utah</th>\n",
       "      <th>Washington</th>\n",
       "    </tr>\n",
       "  </thead>\n",
       "  <tbody>\n",
       "    <tr>\n",
       "      <th>away</th>\n",
       "      <td>0.49</td>\n",
       "      <td>0.56</td>\n",
       "      <td>0.17</td>\n",
       "      <td>0.34</td>\n",
       "      <td>0.39</td>\n",
       "      <td>0.49</td>\n",
       "      <td>0.29</td>\n",
       "      <td>0.44</td>\n",
       "      <td>0.32</td>\n",
       "      <td>0.76</td>\n",
       "      <td>...</td>\n",
       "      <td>0.46</td>\n",
       "      <td>0.32</td>\n",
       "      <td>0.27</td>\n",
       "      <td>0.22</td>\n",
       "      <td>0.39</td>\n",
       "      <td>0.37</td>\n",
       "      <td>0.73</td>\n",
       "      <td>0.56</td>\n",
       "      <td>0.54</td>\n",
       "      <td>0.46</td>\n",
       "    </tr>\n",
       "    <tr>\n",
       "      <th>diff</th>\n",
       "      <td>0.07</td>\n",
       "      <td>0.17</td>\n",
       "      <td>0.15</td>\n",
       "      <td>0.20</td>\n",
       "      <td>0.22</td>\n",
       "      <td>0.27</td>\n",
       "      <td>0.22</td>\n",
       "      <td>0.10</td>\n",
       "      <td>0.27</td>\n",
       "      <td>0.12</td>\n",
       "      <td>...</td>\n",
       "      <td>0.22</td>\n",
       "      <td>0.07</td>\n",
       "      <td>0.14</td>\n",
       "      <td>0.15</td>\n",
       "      <td>0.22</td>\n",
       "      <td>0.04</td>\n",
       "      <td>0.03</td>\n",
       "      <td>0.12</td>\n",
       "      <td>0.17</td>\n",
       "      <td>0.27</td>\n",
       "    </tr>\n",
       "    <tr>\n",
       "      <th>home</th>\n",
       "      <td>0.56</td>\n",
       "      <td>0.73</td>\n",
       "      <td>0.32</td>\n",
       "      <td>0.54</td>\n",
       "      <td>0.61</td>\n",
       "      <td>0.76</td>\n",
       "      <td>0.51</td>\n",
       "      <td>0.54</td>\n",
       "      <td>0.59</td>\n",
       "      <td>0.88</td>\n",
       "      <td>...</td>\n",
       "      <td>0.68</td>\n",
       "      <td>0.39</td>\n",
       "      <td>0.41</td>\n",
       "      <td>0.37</td>\n",
       "      <td>0.61</td>\n",
       "      <td>0.41</td>\n",
       "      <td>0.76</td>\n",
       "      <td>0.68</td>\n",
       "      <td>0.71</td>\n",
       "      <td>0.73</td>\n",
       "    </tr>\n",
       "  </tbody>\n",
       "</table>\n",
       "<p>3 rows × 30 columns</p>\n",
       "</div>"
      ],
      "text/plain": [
       "      Atlanta  Boston  Brooklyn  Charlotte  Chicago  Cleveland  Dallas  \\\n",
       "away     0.49    0.56      0.17       0.34     0.39       0.49    0.29   \n",
       "diff     0.07    0.17      0.15       0.20     0.22       0.27    0.22   \n",
       "home     0.56    0.73      0.32       0.54     0.61       0.76    0.51   \n",
       "\n",
       "      Denver  Detroit  Golden State     ...      Oklahoma City  Orlando  \\\n",
       "away    0.44     0.32          0.76     ...               0.46     0.32   \n",
       "diff    0.10     0.27          0.12     ...               0.22     0.07   \n",
       "home    0.54     0.59          0.88     ...               0.68     0.39   \n",
       "\n",
       "      Philadelphia  Phoenix  Portland  Sacramento  San Antonio  Toronto  Utah  \\\n",
       "away          0.27     0.22      0.39        0.37         0.73     0.56  0.54   \n",
       "diff          0.14     0.15      0.22        0.04         0.03     0.12  0.17   \n",
       "home          0.41     0.37      0.61        0.41         0.76     0.68  0.71   \n",
       "\n",
       "      Washington  \n",
       "away        0.46  \n",
       "diff        0.27  \n",
       "home        0.73  \n",
       "\n",
       "[3 rows x 30 columns]"
      ]
     },
     "execution_count": 25,
     "metadata": {},
     "output_type": "execute_result"
    }
   ],
   "source": [
    "teamWinPct_df.head()"
   ]
  },
  {
   "cell_type": "code",
   "execution_count": 26,
   "metadata": {
    "ExecuteTime": {
     "end_time": "2018-03-01T21:33:27.562736Z",
     "start_time": "2018-03-01T21:33:27.542723Z"
    },
    "collapsed": true
   },
   "outputs": [],
   "source": [
    "# transpose dataframe to make team names the index \n",
    "\n",
    "teamWinPct_df = teamWinPct_df.transpose()"
   ]
  },
  {
   "cell_type": "code",
   "execution_count": 27,
   "metadata": {
    "ExecuteTime": {
     "end_time": "2018-03-01T21:33:27.587253Z",
     "start_time": "2018-03-01T21:33:27.566240Z"
    }
   },
   "outputs": [
    {
     "data": {
      "text/html": [
       "<div>\n",
       "<style>\n",
       "    .dataframe thead tr:only-child th {\n",
       "        text-align: right;\n",
       "    }\n",
       "\n",
       "    .dataframe thead th {\n",
       "        text-align: left;\n",
       "    }\n",
       "\n",
       "    .dataframe tbody tr th {\n",
       "        vertical-align: top;\n",
       "    }\n",
       "</style>\n",
       "<table border=\"1\" class=\"dataframe\">\n",
       "  <thead>\n",
       "    <tr style=\"text-align: right;\">\n",
       "      <th></th>\n",
       "      <th>away</th>\n",
       "      <th>diff</th>\n",
       "      <th>home</th>\n",
       "    </tr>\n",
       "  </thead>\n",
       "  <tbody>\n",
       "    <tr>\n",
       "      <th>Atlanta</th>\n",
       "      <td>0.49</td>\n",
       "      <td>0.07</td>\n",
       "      <td>0.56</td>\n",
       "    </tr>\n",
       "    <tr>\n",
       "      <th>Boston</th>\n",
       "      <td>0.56</td>\n",
       "      <td>0.17</td>\n",
       "      <td>0.73</td>\n",
       "    </tr>\n",
       "    <tr>\n",
       "      <th>Brooklyn</th>\n",
       "      <td>0.17</td>\n",
       "      <td>0.15</td>\n",
       "      <td>0.32</td>\n",
       "    </tr>\n",
       "    <tr>\n",
       "      <th>Charlotte</th>\n",
       "      <td>0.34</td>\n",
       "      <td>0.20</td>\n",
       "      <td>0.54</td>\n",
       "    </tr>\n",
       "    <tr>\n",
       "      <th>Chicago</th>\n",
       "      <td>0.39</td>\n",
       "      <td>0.22</td>\n",
       "      <td>0.61</td>\n",
       "    </tr>\n",
       "  </tbody>\n",
       "</table>\n",
       "</div>"
      ],
      "text/plain": [
       "           away  diff  home\n",
       "Atlanta    0.49  0.07  0.56\n",
       "Boston     0.56  0.17  0.73\n",
       "Brooklyn   0.17  0.15  0.32\n",
       "Charlotte  0.34  0.20  0.54\n",
       "Chicago    0.39  0.22  0.61"
      ]
     },
     "execution_count": 27,
     "metadata": {},
     "output_type": "execute_result"
    }
   ],
   "source": [
    "teamWinPct_df.head()"
   ]
  },
  {
   "cell_type": "code",
   "execution_count": 28,
   "metadata": {
    "ExecuteTime": {
     "end_time": "2018-03-01T21:33:28.809622Z",
     "start_time": "2018-03-01T21:33:27.594259Z"
    },
    "collapsed": true
   },
   "outputs": [],
   "source": [
    "import plotly.plotly as py\n",
    "import plotly.graph_objs as go"
   ]
  },
  {
   "cell_type": "code",
   "execution_count": 29,
   "metadata": {
    "ExecuteTime": {
     "end_time": "2018-03-01T21:33:30.449582Z",
     "start_time": "2018-03-01T21:33:28.813124Z"
    }
   },
   "outputs": [
    {
     "data": {
      "text/html": [
       "<iframe id=\"igraph\" scrolling=\"no\" style=\"border:none;\" seamless=\"seamless\" src=\"https://plot.ly/~mudbone/28.embed\" height=\"525px\" width=\"100%\"></iframe>"
      ],
      "text/plain": [
       "<plotly.tools.PlotlyDisplay object>"
      ]
     },
     "execution_count": 29,
     "metadata": {},
     "output_type": "execute_result"
    }
   ],
   "source": [
    "# generate paired barchart in plotly organized by team comparing home and away winning percentages\n",
    "\n",
    "trace1 = go.Bar(\n",
    "    x=teamWinPct_df.sort_values('home', ascending=False).index,\n",
    "    y=teamWinPct_df.sort_values('home', ascending=False)['home'],\n",
    "    name='Home'\n",
    ")\n",
    "\n",
    "trace2 = go.Bar(\n",
    "    x=teamWinPct_df.sort_values('home', ascending=False).index,\n",
    "    y=teamWinPct_df.sort_values('home', ascending=False)['away'],\n",
    "    name='Away'\n",
    ")\n",
    "\n",
    "data = [trace1, trace2]\n",
    "layout = go.Layout(\n",
    "    title='Home and Away Winning Percentage By Team',\n",
    "    barmode='group'\n",
    ")\n",
    "\n",
    "fig = go.Figure(data=data, layout=layout)\n",
    "py.iplot(fig, filename='grouped-bar')"
   ]
  },
  {
   "cell_type": "code",
   "execution_count": 30,
   "metadata": {
    "ExecuteTime": {
     "end_time": "2018-03-01T21:33:32.168309Z",
     "start_time": "2018-03-01T21:33:30.456088Z"
    }
   },
   "outputs": [
    {
     "data": {
      "text/html": [
       "<iframe id=\"igraph\" scrolling=\"no\" style=\"border:none;\" seamless=\"seamless\" src=\"https://plot.ly/~mudbone/34.embed\" height=\"525px\" width=\"100%\"></iframe>"
      ],
      "text/plain": [
       "<plotly.tools.PlotlyDisplay object>"
      ]
     },
     "execution_count": 30,
     "metadata": {},
     "output_type": "execute_result"
    }
   ],
   "source": [
    "# NICE TO ADD LINE OF BEST FIT OR AT LEAST LABEL TEAM NAMES UPON HOVER\n",
    "\n",
    "# Create a trace\n",
    "trace = go.Scatter(\n",
    "    x = teamWinPct_df['away'],\n",
    "    y = teamWinPct_df['home'],\n",
    "    mode = 'markers',\n",
    "    \n",
    "    # this will add team names to the hover\n",
    "    text= teamWinPct_df.index\n",
    ")\n",
    "\n",
    "data = [trace]\n",
    "\n",
    "layout=go.Layout(\n",
    "    title= 'Home vs Away Win %', \n",
    "    hovermode= 'closest',\n",
    "    xaxis= dict(title='Away Win %'),\n",
    "    yaxis= dict(title='Home Win %')\n",
    "\n",
    ")\n",
    "\n",
    "\n",
    "fig = go.Figure(data=data, layout=layout)\n",
    "\n",
    "# Plot and embed in ipython notebook!\n",
    "py.iplot(fig, filename='basic-scatter')\n",
    "\n"
   ]
  },
  {
   "cell_type": "code",
   "execution_count": 31,
   "metadata": {
    "ExecuteTime": {
     "end_time": "2018-03-01T21:33:34.051622Z",
     "start_time": "2018-03-01T21:33:32.171311Z"
    }
   },
   "outputs": [
    {
     "data": {
      "text/html": [
       "<iframe id=\"igraph\" scrolling=\"no\" style=\"border:none;\" seamless=\"seamless\" src=\"https://plot.ly/~mudbone/32.embed\" height=\"525px\" width=\"100%\"></iframe>"
      ],
      "text/plain": [
       "<plotly.tools.PlotlyDisplay object>"
      ]
     },
     "execution_count": 31,
     "metadata": {},
     "output_type": "execute_result"
    }
   ],
   "source": [
    "# generate paired barchart in plotly organized by team comparing difference between home and away winning percentages\n",
    "\n",
    "trace = [go.Bar(\n",
    "    x=teamWinPct_df.sort_values('diff', ascending=False).index,\n",
    "    y=teamWinPct_df.sort_values('diff', ascending=False)['diff'],\n",
    "    name='Home-Away Win Pct'\n",
    ")]\n",
    "\n",
    "\n",
    "\n",
    "\n",
    "py.iplot(trace, filename='basic-bar')"
   ]
  },
  {
   "cell_type": "code",
   "execution_count": 32,
   "metadata": {
    "ExecuteTime": {
     "end_time": "2018-03-01T21:33:34.372350Z",
     "start_time": "2018-03-01T21:33:34.053623Z"
    }
   },
   "outputs": [
    {
     "data": {
      "text/plain": [
       "<matplotlib.axes._subplots.AxesSubplot at 0x26242d19ac8>"
      ]
     },
     "execution_count": 32,
     "metadata": {},
     "output_type": "execute_result"
    },
    {
     "data": {
      "image/png": "[encoded data removed]",
      "text/plain": [
       "<matplotlib.figure.Figure at 0x26242d19e80>"
      ]
     },
     "metadata": {},
     "output_type": "display_data"
    }
   ],
   "source": [
    "sns.distplot(teamWinPct_df['diff'])"
   ]
  },
  {
   "cell_type": "code",
   "execution_count": 33,
   "metadata": {
    "ExecuteTime": {
     "end_time": "2018-03-01T21:33:37.196410Z",
     "start_time": "2018-03-01T21:33:34.375352Z"
    }
   },
   "outputs": [
    {
     "name": "stdout",
     "output_type": "stream",
     "text": [
      "Bootstrapped 95% confidence intervals\n",
      "Low: 0.123 \n",
      "High: 0.195\n"
     ]
    }
   ],
   "source": [
    "# calculate the 95% CI for difference between home and away win % difference using bootstrap (resampling with replacement) \n",
    "\n",
    "homeAwayWin_samples=[]\n",
    "\n",
    "for i in range(10000): \n",
    "    homeAwayWin_samples.append(np.mean(teamWinPct_df['diff'].sample(frac=1.0, replace=True)))\n",
    "    \n",
    "CIs= np.percentile(homeAwayWin_samples, [0.025, 97.5])    \n",
    "  \n",
    "print(\"Bootstrapped 95% confidence intervals\\nLow:\", round(CIs[0],3), \"\\nHigh:\", round(CIs[1],3))  "
   ]
  },
  {
   "cell_type": "code",
   "execution_count": 34,
   "metadata": {
    "ExecuteTime": {
     "end_time": "2018-03-01T21:33:37.213922Z",
     "start_time": "2018-03-01T21:33:37.200913Z"
    }
   },
   "outputs": [
    {
     "data": {
      "text/plain": [
       "[0.14633333333333334,\n",
       " 0.18133333333333332,\n",
       " 0.16033333333333333,\n",
       " 0.18299999999999997,\n",
       " 0.15233333333333332,\n",
       " 0.16233333333333333,\n",
       " 0.16733333333333336,\n",
       " 0.14266666666666666,\n",
       " 0.17699999999999994,\n",
       " 0.14466666666666667]"
      ]
     },
     "execution_count": 34,
     "metadata": {},
     "output_type": "execute_result"
    }
   ],
   "source": [
    "homeAwayWin_samples[0:10]"
   ]
  },
  {
   "cell_type": "code",
   "execution_count": 35,
   "metadata": {
    "ExecuteTime": {
     "end_time": "2018-03-01T21:33:37.241941Z",
     "start_time": "2018-03-01T21:33:37.228931Z"
    },
    "collapsed": true
   },
   "outputs": [],
   "source": [
    "# Margin of victory (total distribution and then victories when home team wins vs victories when road team wins)\n",
    "\n",
    "# calculate number of times home team won in regular season \n",
    "\n",
    "rs_marginOfVictory = abs(rs['HOME TEAM FINAL SCORE'] - rs['ROAD TEAM FINAL SCORE'])"
   ]
  },
  {
   "cell_type": "code",
   "execution_count": 36,
   "metadata": {
    "ExecuteTime": {
     "end_time": "2018-03-01T21:33:37.326001Z",
     "start_time": "2018-03-01T21:33:37.245444Z"
    }
   },
   "outputs": [
    {
     "data": {
      "text/plain": [
       "DATE\n",
       "2016-10-25    29\n",
       "2016-10-25     9\n",
       "2016-10-25    29\n",
       "2016-10-26    12\n",
       "2016-10-26     9\n",
       "dtype: int64"
      ]
     },
     "execution_count": 36,
     "metadata": {},
     "output_type": "execute_result"
    }
   ],
   "source": [
    "rs_marginOfVictory.head()"
   ]
  },
  {
   "cell_type": "code",
   "execution_count": 37,
   "metadata": {
    "ExecuteTime": {
     "end_time": "2018-03-01T21:33:37.995976Z",
     "start_time": "2018-03-01T21:33:37.343013Z"
    }
   },
   "outputs": [
    {
     "data": {
      "text/plain": [
       "<matplotlib.axes._subplots.AxesSubplot at 0x26243171748>"
      ]
     },
     "execution_count": 37,
     "metadata": {},
     "output_type": "execute_result"
    },
    {
     "data": {
      "image/png": "[encoded data removed]",
      "text/plain": [
       "<matplotlib.figure.Figure at 0x262431b2198>"
      ]
     },
     "metadata": {},
     "output_type": "display_data"
    }
   ],
   "source": [
    "# Looks sort of like an exponential (or skewed right distribution).  Of course it is lower-bounded by 0.  \n",
    "# What, if anything, can this tell us about mechanics/dynamics of NBA game?\n",
    "\n",
    "sns.distplot(rs_marginOfVictory)"
   ]
  },
  {
   "cell_type": "code",
   "execution_count": 38,
   "metadata": {
    "ExecuteTime": {
     "end_time": "2018-03-01T21:33:38.007485Z",
     "start_time": "2018-03-01T21:33:37.998979Z"
    }
   },
   "outputs": [
    {
     "data": {
      "text/plain": [
       "pandas.core.series.Series"
      ]
     },
     "execution_count": 38,
     "metadata": {},
     "output_type": "execute_result"
    }
   ],
   "source": [
    "type(rs_marginOfVictory)"
   ]
  },
  {
   "cell_type": "code",
   "execution_count": 39,
   "metadata": {
    "ExecuteTime": {
     "end_time": "2018-03-01T21:33:38.611413Z",
     "start_time": "2018-03-01T21:33:38.011487Z"
    }
   },
   "outputs": [
    {
     "name": "stdout",
     "output_type": "stream",
     "text": [
      "Bootstrapped 95% confidence intervals\n",
      "Low: 10.65 \n",
      "High: 11.771\n"
     ]
    }
   ],
   "source": [
    " # calculate the 95% CI for margin of victory (resampling with replacement) \n",
    "\n",
    "rs_marginOfVictory_samples=[]\n",
    "\n",
    "for i in range(1000): \n",
    "    rs_marginOfVictory_samples.append(np.mean(rs_marginOfVictory.sample(frac=1.0, replace=True)))\n",
    "    \n",
    "marginOfVictory_CIs= np.percentile(rs_marginOfVictory_samples, [0.025, 97.5])    \n",
    "  \n",
    "print(\"Bootstrapped 95% confidence intervals\\nLow:\", round(marginOfVictory_CIs[0],3), \"\\nHigh:\", round(marginOfVictory_CIs[1],3))"
   ]
  },
  {
   "cell_type": "code",
   "execution_count": 40,
   "metadata": {
    "ExecuteTime": {
     "end_time": "2018-03-01T21:33:38.625927Z",
     "start_time": "2018-03-01T21:33:38.615417Z"
    }
   },
   "outputs": [
    {
     "data": {
      "text/plain": [
       "[11.62439024390244,\n",
       " 11.15609756097561,\n",
       " 11.314634146341463,\n",
       " 10.895934959349594,\n",
       " 11.366666666666667,\n",
       " 11.492682926829268,\n",
       " 11.21951219512195,\n",
       " 11.483739837398375,\n",
       " 11.408130081300813,\n",
       " 11.304065040650407]"
      ]
     },
     "execution_count": 40,
     "metadata": {},
     "output_type": "execute_result"
    }
   ],
   "source": [
    "rs_marginOfVictory_samples[0:10]"
   ]
  },
  {
   "cell_type": "code",
   "execution_count": 41,
   "metadata": {
    "ExecuteTime": {
     "end_time": "2018-03-01T21:33:39.994383Z",
     "start_time": "2018-03-01T21:33:38.630927Z"
    }
   },
   "outputs": [
    {
     "data": {
      "text/html": [
       "<iframe id=\"igraph\" scrolling=\"no\" style=\"border:none;\" seamless=\"seamless\" src=\"https://plot.ly/~mudbone/34.embed\" height=\"525px\" width=\"100%\"></iframe>"
      ],
      "text/plain": [
       "<plotly.tools.PlotlyDisplay object>"
      ]
     },
     "execution_count": 41,
     "metadata": {},
     "output_type": "execute_result"
    }
   ],
   "source": [
    "# scatterplot of game scores, with home team on y-axis and away team on x-axis\n",
    "\n",
    "# Create a trace\n",
    "trace = go.Scatter(\n",
    "    x = rs['ROAD TEAM FINAL SCORE'],\n",
    "    y = rs['HOME TEAM FINAL SCORE'],\n",
    "    mode = 'markers',\n",
    "    name = 'game scores'\n",
    "    \n",
    "    \n",
    ")\n",
    "\n",
    "\n",
    "y_equals_x_line= go.Scatter(\n",
    "    x = np.linspace(65,150,150-65),\n",
    "    y = np.linspace(65,150,150-65),\n",
    "    mode = 'line',\n",
    "    name = 'y = x'\n",
    "\n",
    "\n",
    ")\n",
    "\n",
    "data = [trace, y_equals_x_line]\n",
    "\n",
    "layout=go.Layout(\n",
    "    title= '2016-2017 NBA Regular Season Game Scores', \n",
    "    hovermode= 'closest',\n",
    "    xaxis= dict(title='Away Team Score'),\n",
    "    yaxis= dict(title='Home Team Score')\n",
    "\n",
    "\n",
    ")\n",
    "\n",
    "fig = go.Figure(data=data, layout=layout)\n",
    "\n",
    "# Plot and embed in ipython notebook!\n",
    "py.iplot(fig, filename='basic-scatter')\n",
    "\n"
   ]
  },
  {
   "cell_type": "code",
   "execution_count": 42,
   "metadata": {
    "ExecuteTime": {
     "end_time": "2018-03-01T21:33:40.043420Z",
     "start_time": "2018-03-01T21:33:39.997387Z"
    }
   },
   "outputs": [
    {
     "data": {
      "text/plain": [
       "array([[ 1.        ,  0.35498191],\n",
       "       [ 0.35498191,  1.        ]])"
      ]
     },
     "execution_count": 42,
     "metadata": {},
     "output_type": "execute_result"
    }
   ],
   "source": [
    "# correlation between scores of teams in NBA games\n",
    "# mild correlation suggests that games tend not to be too lopsided\n",
    "# Do NFL or MLB games show similar correlation?  \n",
    "\n",
    "np.corrcoef(x=rs['ROAD TEAM FINAL SCORE'], y=rs['HOME TEAM FINAL SCORE'])"
   ]
  },
  {
   "cell_type": "code",
   "execution_count": 43,
   "metadata": {
    "ExecuteTime": {
     "end_time": "2018-03-01T21:33:40.064432Z",
     "start_time": "2018-03-01T21:33:40.050924Z"
    },
    "collapsed": true
   },
   "outputs": [],
   "source": [
    "# Subset games to look at margins of victory when home team wins vs when away team wins \n",
    "# Do home teams tend to win by larger margin-- are there more blowouts by home team? \n",
    "\n",
    "rs_hTWins = rs[rs['HOME TEAM FINAL SCORE']>rs['ROAD TEAM FINAL SCORE']]\n",
    "\n",
    "rs_awayTWins = rs[rs['HOME TEAM FINAL SCORE']<rs['ROAD TEAM FINAL SCORE']]\n"
   ]
  },
  {
   "cell_type": "code",
   "execution_count": 44,
   "metadata": {
    "ExecuteTime": {
     "end_time": "2018-03-01T21:33:40.136984Z",
     "start_time": "2018-03-01T21:33:40.067935Z"
    }
   },
   "outputs": [
    {
     "data": {
      "text/html": [
       "<div>\n",
       "<style>\n",
       "    .dataframe thead tr:only-child th {\n",
       "        text-align: right;\n",
       "    }\n",
       "\n",
       "    .dataframe thead th {\n",
       "        text-align: left;\n",
       "    }\n",
       "\n",
       "    .dataframe tbody tr th {\n",
       "        vertical-align: top;\n",
       "    }\n",
       "</style>\n",
       "<table border=\"1\" class=\"dataframe\">\n",
       "  <thead>\n",
       "    <tr style=\"text-align: right;\">\n",
       "      <th></th>\n",
       "      <th>DATASET</th>\n",
       "      <th>TIME</th>\n",
       "      <th>ROAD TEAM</th>\n",
       "      <th>HOME TEAM</th>\n",
       "      <th>TOTAL GAME MINUTES</th>\n",
       "      <th>ROAD TEAM FINAL SCORE</th>\n",
       "      <th>HOME TEAM FINAL SCORE</th>\n",
       "      <th>ROAD TEAM REST</th>\n",
       "      <th>HOME TEAM REST</th>\n",
       "    </tr>\n",
       "    <tr>\n",
       "      <th>DATE</th>\n",
       "      <th></th>\n",
       "      <th></th>\n",
       "      <th></th>\n",
       "      <th></th>\n",
       "      <th></th>\n",
       "      <th></th>\n",
       "      <th></th>\n",
       "      <th></th>\n",
       "      <th></th>\n",
       "    </tr>\n",
       "  </thead>\n",
       "  <tbody>\n",
       "    <tr>\n",
       "      <th>2016-10-25</th>\n",
       "      <td>2016-2017 Regular Season</td>\n",
       "      <td>20:00:00</td>\n",
       "      <td>New York</td>\n",
       "      <td>Cleveland</td>\n",
       "      <td>240</td>\n",
       "      <td>88</td>\n",
       "      <td>117</td>\n",
       "      <td>3+</td>\n",
       "      <td>3+</td>\n",
       "    </tr>\n",
       "    <tr>\n",
       "      <th>2016-10-25</th>\n",
       "      <td>2016-2017 Regular Season</td>\n",
       "      <td>22:00:00</td>\n",
       "      <td>Utah</td>\n",
       "      <td>Portland</td>\n",
       "      <td>240</td>\n",
       "      <td>104</td>\n",
       "      <td>113</td>\n",
       "      <td>3+</td>\n",
       "      <td>3+</td>\n",
       "    </tr>\n",
       "    <tr>\n",
       "      <th>2016-10-26</th>\n",
       "      <td>2016-2017 Regular Season</td>\n",
       "      <td>19:00:00</td>\n",
       "      <td>Dallas</td>\n",
       "      <td>Indiana</td>\n",
       "      <td>265</td>\n",
       "      <td>121</td>\n",
       "      <td>130</td>\n",
       "      <td>3+</td>\n",
       "      <td>3+</td>\n",
       "    </tr>\n",
       "    <tr>\n",
       "      <th>2016-10-26</th>\n",
       "      <td>2016-2017 Regular Season</td>\n",
       "      <td>19:30:00</td>\n",
       "      <td>Brooklyn</td>\n",
       "      <td>Boston</td>\n",
       "      <td>240</td>\n",
       "      <td>117</td>\n",
       "      <td>122</td>\n",
       "      <td>3+</td>\n",
       "      <td>3+</td>\n",
       "    </tr>\n",
       "    <tr>\n",
       "      <th>2016-10-26</th>\n",
       "      <td>2016-2017 Regular Season</td>\n",
       "      <td>19:30:00</td>\n",
       "      <td>Detroit</td>\n",
       "      <td>Toronto</td>\n",
       "      <td>240</td>\n",
       "      <td>91</td>\n",
       "      <td>109</td>\n",
       "      <td>3+</td>\n",
       "      <td>3+</td>\n",
       "    </tr>\n",
       "  </tbody>\n",
       "</table>\n",
       "</div>"
      ],
      "text/plain": [
       "                             DATASET      TIME ROAD TEAM  HOME TEAM  \\\n",
       "DATE                                                                  \n",
       "2016-10-25  2016-2017 Regular Season  20:00:00  New York  Cleveland   \n",
       "2016-10-25  2016-2017 Regular Season  22:00:00      Utah   Portland   \n",
       "2016-10-26  2016-2017 Regular Season  19:00:00    Dallas    Indiana   \n",
       "2016-10-26  2016-2017 Regular Season  19:30:00  Brooklyn     Boston   \n",
       "2016-10-26  2016-2017 Regular Season  19:30:00   Detroit    Toronto   \n",
       "\n",
       "            TOTAL GAME MINUTES  ROAD TEAM FINAL SCORE  HOME TEAM FINAL SCORE  \\\n",
       "DATE                                                                           \n",
       "2016-10-25                 240                     88                    117   \n",
       "2016-10-25                 240                    104                    113   \n",
       "2016-10-26                 265                    121                    130   \n",
       "2016-10-26                 240                    117                    122   \n",
       "2016-10-26                 240                     91                    109   \n",
       "\n",
       "           ROAD TEAM REST HOME TEAM REST  \n",
       "DATE                                      \n",
       "2016-10-25             3+             3+  \n",
       "2016-10-25             3+             3+  \n",
       "2016-10-26             3+             3+  \n",
       "2016-10-26             3+             3+  \n",
       "2016-10-26             3+             3+  "
      ]
     },
     "execution_count": 44,
     "metadata": {},
     "output_type": "execute_result"
    }
   ],
   "source": [
    "rs_hTWins.head()"
   ]
  },
  {
   "cell_type": "code",
   "execution_count": 45,
   "metadata": {
    "ExecuteTime": {
     "end_time": "2018-03-01T21:33:40.197027Z",
     "start_time": "2018-03-01T21:33:40.149994Z"
    }
   },
   "outputs": [
    {
     "data": {
      "text/html": [
       "<div>\n",
       "<style>\n",
       "    .dataframe thead tr:only-child th {\n",
       "        text-align: right;\n",
       "    }\n",
       "\n",
       "    .dataframe thead th {\n",
       "        text-align: left;\n",
       "    }\n",
       "\n",
       "    .dataframe tbody tr th {\n",
       "        vertical-align: top;\n",
       "    }\n",
       "</style>\n",
       "<table border=\"1\" class=\"dataframe\">\n",
       "  <thead>\n",
       "    <tr style=\"text-align: right;\">\n",
       "      <th></th>\n",
       "      <th>DATASET</th>\n",
       "      <th>TIME</th>\n",
       "      <th>ROAD TEAM</th>\n",
       "      <th>HOME TEAM</th>\n",
       "      <th>TOTAL GAME MINUTES</th>\n",
       "      <th>ROAD TEAM FINAL SCORE</th>\n",
       "      <th>HOME TEAM FINAL SCORE</th>\n",
       "      <th>ROAD TEAM REST</th>\n",
       "      <th>HOME TEAM REST</th>\n",
       "    </tr>\n",
       "    <tr>\n",
       "      <th>DATE</th>\n",
       "      <th></th>\n",
       "      <th></th>\n",
       "      <th></th>\n",
       "      <th></th>\n",
       "      <th></th>\n",
       "      <th></th>\n",
       "      <th></th>\n",
       "      <th></th>\n",
       "      <th></th>\n",
       "    </tr>\n",
       "  </thead>\n",
       "  <tbody>\n",
       "    <tr>\n",
       "      <th>2016-10-25</th>\n",
       "      <td>2016-2017 Regular Season</td>\n",
       "      <td>22:30:00</td>\n",
       "      <td>San Antonio</td>\n",
       "      <td>Golden State</td>\n",
       "      <td>240</td>\n",
       "      <td>129</td>\n",
       "      <td>100</td>\n",
       "      <td>3+</td>\n",
       "      <td>3+</td>\n",
       "    </tr>\n",
       "    <tr>\n",
       "      <th>2016-10-26</th>\n",
       "      <td>2016-2017 Regular Season</td>\n",
       "      <td>19:00:00</td>\n",
       "      <td>Miami</td>\n",
       "      <td>Orlando</td>\n",
       "      <td>240</td>\n",
       "      <td>108</td>\n",
       "      <td>96</td>\n",
       "      <td>3+</td>\n",
       "      <td>3+</td>\n",
       "    </tr>\n",
       "    <tr>\n",
       "      <th>2016-10-26</th>\n",
       "      <td>2016-2017 Regular Season</td>\n",
       "      <td>20:00:00</td>\n",
       "      <td>Charlotte</td>\n",
       "      <td>Milwaukee</td>\n",
       "      <td>240</td>\n",
       "      <td>107</td>\n",
       "      <td>96</td>\n",
       "      <td>3+</td>\n",
       "      <td>3+</td>\n",
       "    </tr>\n",
       "    <tr>\n",
       "      <th>2016-10-26</th>\n",
       "      <td>2016-2017 Regular Season</td>\n",
       "      <td>20:00:00</td>\n",
       "      <td>Denver</td>\n",
       "      <td>New Orleans</td>\n",
       "      <td>240</td>\n",
       "      <td>107</td>\n",
       "      <td>102</td>\n",
       "      <td>3+</td>\n",
       "      <td>3+</td>\n",
       "    </tr>\n",
       "    <tr>\n",
       "      <th>2016-10-26</th>\n",
       "      <td>2016-2017 Regular Season</td>\n",
       "      <td>20:00:00</td>\n",
       "      <td>Oklahoma City</td>\n",
       "      <td>Philadelphia</td>\n",
       "      <td>240</td>\n",
       "      <td>103</td>\n",
       "      <td>97</td>\n",
       "      <td>3+</td>\n",
       "      <td>3+</td>\n",
       "    </tr>\n",
       "  </tbody>\n",
       "</table>\n",
       "</div>"
      ],
      "text/plain": [
       "                             DATASET      TIME      ROAD TEAM     HOME TEAM  \\\n",
       "DATE                                                                          \n",
       "2016-10-25  2016-2017 Regular Season  22:30:00    San Antonio  Golden State   \n",
       "2016-10-26  2016-2017 Regular Season  19:00:00          Miami       Orlando   \n",
       "2016-10-26  2016-2017 Regular Season  20:00:00      Charlotte     Milwaukee   \n",
       "2016-10-26  2016-2017 Regular Season  20:00:00         Denver   New Orleans   \n",
       "2016-10-26  2016-2017 Regular Season  20:00:00  Oklahoma City  Philadelphia   \n",
       "\n",
       "            TOTAL GAME MINUTES  ROAD TEAM FINAL SCORE  HOME TEAM FINAL SCORE  \\\n",
       "DATE                                                                           \n",
       "2016-10-25                 240                    129                    100   \n",
       "2016-10-26                 240                    108                     96   \n",
       "2016-10-26                 240                    107                     96   \n",
       "2016-10-26                 240                    107                    102   \n",
       "2016-10-26                 240                    103                     97   \n",
       "\n",
       "           ROAD TEAM REST HOME TEAM REST  \n",
       "DATE                                      \n",
       "2016-10-25             3+             3+  \n",
       "2016-10-26             3+             3+  \n",
       "2016-10-26             3+             3+  \n",
       "2016-10-26             3+             3+  \n",
       "2016-10-26             3+             3+  "
      ]
     },
     "execution_count": 45,
     "metadata": {},
     "output_type": "execute_result"
    }
   ],
   "source": [
    "rs_awayTWins.head()"
   ]
  },
  {
   "cell_type": "code",
   "execution_count": 46,
   "metadata": {
    "ExecuteTime": {
     "end_time": "2018-03-01T21:33:40.213539Z",
     "start_time": "2018-03-01T21:33:40.202030Z"
    },
    "collapsed": true
   },
   "outputs": [],
   "source": [
    "rs_hTWins_margin = rs_hTWins['HOME TEAM FINAL SCORE']-rs_hTWins['ROAD TEAM FINAL SCORE']"
   ]
  },
  {
   "cell_type": "code",
   "execution_count": 47,
   "metadata": {
    "ExecuteTime": {
     "end_time": "2018-03-01T21:33:40.265575Z",
     "start_time": "2018-03-01T21:33:40.221546Z"
    }
   },
   "outputs": [
    {
     "data": {
      "text/plain": [
       "count    718.000000\n",
       "mean      12.395543\n",
       "std        8.849877\n",
       "min        1.000000\n",
       "25%        6.000000\n",
       "50%       10.000000\n",
       "75%       17.000000\n",
       "max       49.000000\n",
       "dtype: float64"
      ]
     },
     "execution_count": 47,
     "metadata": {},
     "output_type": "execute_result"
    }
   ],
   "source": [
    "rs_hTWins_margin.describe()"
   ]
  },
  {
   "cell_type": "code",
   "execution_count": 48,
   "metadata": {
    "ExecuteTime": {
     "end_time": "2018-03-01T21:33:40.284089Z",
     "start_time": "2018-03-01T21:33:40.270579Z"
    },
    "collapsed": true
   },
   "outputs": [],
   "source": [
    "rs_awayTWins_margin = rs_awayTWins['ROAD TEAM FINAL SCORE']-rs_awayTWins['HOME TEAM FINAL SCORE']"
   ]
  },
  {
   "cell_type": "code",
   "execution_count": 49,
   "metadata": {
    "ExecuteTime": {
     "end_time": "2018-03-01T21:33:40.318113Z",
     "start_time": "2018-03-01T21:33:40.293095Z"
    }
   },
   "outputs": [
    {
     "data": {
      "text/plain": [
       "count    512.000000\n",
       "mean       9.818359\n",
       "std        7.210574\n",
       "min        1.000000\n",
       "25%        4.750000\n",
       "50%        8.000000\n",
       "75%       13.000000\n",
       "max       37.000000\n",
       "dtype: float64"
      ]
     },
     "execution_count": 49,
     "metadata": {},
     "output_type": "execute_result"
    }
   ],
   "source": [
    "rs_awayTWins_margin.describe()"
   ]
  },
  {
   "cell_type": "code",
   "execution_count": 50,
   "metadata": {
    "ExecuteTime": {
     "end_time": "2018-03-01T21:33:41.101168Z",
     "start_time": "2018-03-01T21:33:40.323617Z"
    }
   },
   "outputs": [
    {
     "data": {
      "text/plain": [
       "<matplotlib.axes._subplots.AxesSubplot at 0x26242e82e80>"
      ]
     },
     "execution_count": 50,
     "metadata": {},
     "output_type": "execute_result"
    },
    {
     "data": {
      "image/png": "[encoded data removed]",
      "text/plain": [
       "<matplotlib.figure.Figure at 0x26241462fd0>"
      ]
     },
     "metadata": {},
     "output_type": "display_data"
    }
   ],
   "source": [
    "# home team wins margin of victory in blue\n",
    "# away team wins margin of victory in orange\n",
    "\n",
    "sns.distplot(rs_hTWins_margin)\n",
    "sns.distplot(rs_awayTWins_margin)"
   ]
  },
  {
   "cell_type": "code",
   "execution_count": 51,
   "metadata": {
    "ExecuteTime": {
     "end_time": "2018-03-01T21:33:48.295141Z",
     "start_time": "2018-03-01T21:33:41.105672Z"
    }
   },
   "outputs": [
    {
     "name": "stdout",
     "output_type": "stream",
     "text": [
      "Bootstrapped 95% confidence intervals\n",
      "Low: 0.973 \n",
      "High: 3.501\n"
     ]
    }
   ],
   "source": [
    "# calculate 95% CI for difference of means between distributions using bootstrap resampling (does it contain zero?)\n",
    "# Result does not contain zero suggesting that home team victories are often by a (slightly) larger margin of victory\n",
    "\n",
    "margin_bsDiffOfMeans=[]\n",
    "\n",
    "for i in range(10000):\n",
    "    bsDiffOfMeans_temp= np.mean(rs_hTWins_margin.sample(frac=1.0, replace=True))-np.mean(rs_awayTWins_margin.sample(frac=1.0, replace=True))\n",
    "    margin_bsDiffOfMeans.append(bsDiffOfMeans_temp)\n",
    "    \n",
    "margin_bsDiffOfMeans_CIs= np.percentile(margin_bsDiffOfMeans, [0.025, 97.5])    \n",
    "  \n",
    "print(\"Bootstrapped 95% confidence intervals\\nLow:\", round(margin_bsDiffOfMeans_CIs[0],3), \"\\nHigh:\", round(margin_bsDiffOfMeans_CIs[1],3))"
   ]
  },
  {
   "cell_type": "code",
   "execution_count": 52,
   "metadata": {
    "ExecuteTime": {
     "end_time": "2018-03-01T21:33:48.368192Z",
     "start_time": "2018-03-01T21:33:48.300144Z"
    }
   },
   "outputs": [
    {
     "data": {
      "text/html": [
       "<div>\n",
       "<style>\n",
       "    .dataframe thead tr:only-child th {\n",
       "        text-align: right;\n",
       "    }\n",
       "\n",
       "    .dataframe thead th {\n",
       "        text-align: left;\n",
       "    }\n",
       "\n",
       "    .dataframe tbody tr th {\n",
       "        vertical-align: top;\n",
       "    }\n",
       "</style>\n",
       "<table border=\"1\" class=\"dataframe\">\n",
       "  <thead>\n",
       "    <tr style=\"text-align: right;\">\n",
       "      <th></th>\n",
       "      <th>DATASET</th>\n",
       "      <th>TIME</th>\n",
       "      <th>ROAD TEAM</th>\n",
       "      <th>HOME TEAM</th>\n",
       "      <th>TOTAL GAME MINUTES</th>\n",
       "      <th>ROAD TEAM FINAL SCORE</th>\n",
       "      <th>HOME TEAM FINAL SCORE</th>\n",
       "      <th>ROAD TEAM REST</th>\n",
       "      <th>HOME TEAM REST</th>\n",
       "    </tr>\n",
       "    <tr>\n",
       "      <th>DATE</th>\n",
       "      <th></th>\n",
       "      <th></th>\n",
       "      <th></th>\n",
       "      <th></th>\n",
       "      <th></th>\n",
       "      <th></th>\n",
       "      <th></th>\n",
       "      <th></th>\n",
       "      <th></th>\n",
       "    </tr>\n",
       "  </thead>\n",
       "  <tbody>\n",
       "    <tr>\n",
       "      <th>2016-11-09</th>\n",
       "      <td>2016-2017 Regular Season</td>\n",
       "      <td>19:30:00</td>\n",
       "      <td>Chicago</td>\n",
       "      <td>Atlanta</td>\n",
       "      <td>240</td>\n",
       "      <td>107</td>\n",
       "      <td>115</td>\n",
       "      <td>1</td>\n",
       "      <td>B2B</td>\n",
       "    </tr>\n",
       "    <tr>\n",
       "      <th>2016-11-09</th>\n",
       "      <td>2016-2017 Regular Season</td>\n",
       "      <td>20:00:00</td>\n",
       "      <td>Toronto</td>\n",
       "      <td>Oklahoma City</td>\n",
       "      <td>240</td>\n",
       "      <td>112</td>\n",
       "      <td>102</td>\n",
       "      <td>2</td>\n",
       "      <td>1</td>\n",
       "    </tr>\n",
       "    <tr>\n",
       "      <th>2016-11-09</th>\n",
       "      <td>2016-2017 Regular Season</td>\n",
       "      <td>21:00:00</td>\n",
       "      <td>Detroit</td>\n",
       "      <td>Phoenix</td>\n",
       "      <td>240</td>\n",
       "      <td>100</td>\n",
       "      <td>107</td>\n",
       "      <td>1</td>\n",
       "      <td>3IN4-B2B</td>\n",
       "    </tr>\n",
       "    <tr>\n",
       "      <th>2016-11-09</th>\n",
       "      <td>2016-2017 Regular Season</td>\n",
       "      <td>21:30:00</td>\n",
       "      <td>Houston</td>\n",
       "      <td>San Antonio</td>\n",
       "      <td>240</td>\n",
       "      <td>101</td>\n",
       "      <td>99</td>\n",
       "      <td>1</td>\n",
       "      <td>3+</td>\n",
       "    </tr>\n",
       "    <tr>\n",
       "      <th>2016-11-09</th>\n",
       "      <td>2016-2017 Regular Season</td>\n",
       "      <td>22:30:00</td>\n",
       "      <td>Portland</td>\n",
       "      <td>LA Clippers</td>\n",
       "      <td>240</td>\n",
       "      <td>80</td>\n",
       "      <td>111</td>\n",
       "      <td>3IN4-B2B</td>\n",
       "      <td>1</td>\n",
       "    </tr>\n",
       "    <tr>\n",
       "      <th>2016-11-09</th>\n",
       "      <td>2016-2017 Regular Season</td>\n",
       "      <td>22:30:00</td>\n",
       "      <td>Dallas</td>\n",
       "      <td>Golden State</td>\n",
       "      <td>240</td>\n",
       "      <td>95</td>\n",
       "      <td>116</td>\n",
       "      <td>3IN4-B2B</td>\n",
       "      <td>1</td>\n",
       "    </tr>\n",
       "    <tr>\n",
       "      <th>2016-11-10</th>\n",
       "      <td>2016-2017 Regular Season</td>\n",
       "      <td>20:00:00</td>\n",
       "      <td>New Orleans</td>\n",
       "      <td>Milwaukee</td>\n",
       "      <td>240</td>\n",
       "      <td>112</td>\n",
       "      <td>106</td>\n",
       "      <td>3IN4</td>\n",
       "      <td>3+</td>\n",
       "    </tr>\n",
       "    <tr>\n",
       "      <th>2016-11-10</th>\n",
       "      <td>2016-2017 Regular Season</td>\n",
       "      <td>20:00:00</td>\n",
       "      <td>Chicago</td>\n",
       "      <td>Miami</td>\n",
       "      <td>240</td>\n",
       "      <td>98</td>\n",
       "      <td>95</td>\n",
       "      <td>3IN4-B2B</td>\n",
       "      <td>2</td>\n",
       "    </tr>\n",
       "    <tr>\n",
       "      <th>2016-11-10</th>\n",
       "      <td>2016-2017 Regular Season</td>\n",
       "      <td>21:00:00</td>\n",
       "      <td>Golden State</td>\n",
       "      <td>Denver</td>\n",
       "      <td>240</td>\n",
       "      <td>125</td>\n",
       "      <td>101</td>\n",
       "      <td>3IN4-B2B</td>\n",
       "      <td>1</td>\n",
       "    </tr>\n",
       "    <tr>\n",
       "      <th>2016-11-10</th>\n",
       "      <td>2016-2017 Regular Season</td>\n",
       "      <td>22:30:00</td>\n",
       "      <td>LA Lakers</td>\n",
       "      <td>Sacramento</td>\n",
       "      <td>240</td>\n",
       "      <td>101</td>\n",
       "      <td>91</td>\n",
       "      <td>1</td>\n",
       "      <td>1</td>\n",
       "    </tr>\n",
       "    <tr>\n",
       "      <th>2016-11-11</th>\n",
       "      <td>2016-2017 Regular Season</td>\n",
       "      <td>19:00:00</td>\n",
       "      <td>Indiana</td>\n",
       "      <td>Philadelphia</td>\n",
       "      <td>265</td>\n",
       "      <td>105</td>\n",
       "      <td>109</td>\n",
       "      <td>1</td>\n",
       "      <td>1</td>\n",
       "    </tr>\n",
       "    <tr>\n",
       "      <th>2016-11-11</th>\n",
       "      <td>2016-2017 Regular Season</td>\n",
       "      <td>19:00:00</td>\n",
       "      <td>Cleveland</td>\n",
       "      <td>Washington</td>\n",
       "      <td>240</td>\n",
       "      <td>105</td>\n",
       "      <td>94</td>\n",
       "      <td>2</td>\n",
       "      <td>1</td>\n",
       "    </tr>\n",
       "    <tr>\n",
       "      <th>2016-11-11</th>\n",
       "      <td>2016-2017 Regular Season</td>\n",
       "      <td>19:00:00</td>\n",
       "      <td>Toronto</td>\n",
       "      <td>Charlotte</td>\n",
       "      <td>240</td>\n",
       "      <td>113</td>\n",
       "      <td>111</td>\n",
       "      <td>1</td>\n",
       "      <td>1</td>\n",
       "    </tr>\n",
       "    <tr>\n",
       "      <th>2016-11-11</th>\n",
       "      <td>2016-2017 Regular Season</td>\n",
       "      <td>19:00:00</td>\n",
       "      <td>Utah</td>\n",
       "      <td>Orlando</td>\n",
       "      <td>240</td>\n",
       "      <td>87</td>\n",
       "      <td>74</td>\n",
       "      <td>1</td>\n",
       "      <td>1</td>\n",
       "    </tr>\n",
       "    <tr>\n",
       "      <th>2016-11-11</th>\n",
       "      <td>2016-2017 Regular Season</td>\n",
       "      <td>19:30:00</td>\n",
       "      <td>New York</td>\n",
       "      <td>Boston</td>\n",
       "      <td>240</td>\n",
       "      <td>87</td>\n",
       "      <td>115</td>\n",
       "      <td>1</td>\n",
       "      <td>1</td>\n",
       "    </tr>\n",
       "    <tr>\n",
       "      <th>2016-11-11</th>\n",
       "      <td>2016-2017 Regular Season</td>\n",
       "      <td>20:00:00</td>\n",
       "      <td>LA Clippers</td>\n",
       "      <td>Oklahoma City</td>\n",
       "      <td>240</td>\n",
       "      <td>110</td>\n",
       "      <td>108</td>\n",
       "      <td>1</td>\n",
       "      <td>1</td>\n",
       "    </tr>\n",
       "    <tr>\n",
       "      <th>2016-11-11</th>\n",
       "      <td>2016-2017 Regular Season</td>\n",
       "      <td>20:30:00</td>\n",
       "      <td>Detroit</td>\n",
       "      <td>San Antonio</td>\n",
       "      <td>240</td>\n",
       "      <td>86</td>\n",
       "      <td>96</td>\n",
       "      <td>1</td>\n",
       "      <td>1</td>\n",
       "    </tr>\n",
       "    <tr>\n",
       "      <th>2016-11-11</th>\n",
       "      <td>2016-2017 Regular Season</td>\n",
       "      <td>22:00:00</td>\n",
       "      <td>Sacramento</td>\n",
       "      <td>Portland</td>\n",
       "      <td>265</td>\n",
       "      <td>120</td>\n",
       "      <td>122</td>\n",
       "      <td>3IN4-B2B</td>\n",
       "      <td>3IN4</td>\n",
       "    </tr>\n",
       "    <tr>\n",
       "      <th>2016-11-12</th>\n",
       "      <td>2016-2017 Regular Season</td>\n",
       "      <td>19:00:00</td>\n",
       "      <td>LA Lakers</td>\n",
       "      <td>New Orleans</td>\n",
       "      <td>240</td>\n",
       "      <td>126</td>\n",
       "      <td>99</td>\n",
       "      <td>1</td>\n",
       "      <td>1</td>\n",
       "    </tr>\n",
       "    <tr>\n",
       "      <th>2016-11-12</th>\n",
       "      <td>2016-2017 Regular Season</td>\n",
       "      <td>19:00:00</td>\n",
       "      <td>Boston</td>\n",
       "      <td>Indiana</td>\n",
       "      <td>240</td>\n",
       "      <td>105</td>\n",
       "      <td>99</td>\n",
       "      <td>3IN4-B2B</td>\n",
       "      <td>3IN4-B2B</td>\n",
       "    </tr>\n",
       "    <tr>\n",
       "      <th>2016-11-12</th>\n",
       "      <td>2016-2017 Regular Season</td>\n",
       "      <td>19:30:00</td>\n",
       "      <td>New York</td>\n",
       "      <td>Toronto</td>\n",
       "      <td>240</td>\n",
       "      <td>107</td>\n",
       "      <td>118</td>\n",
       "      <td>3IN4-B2B</td>\n",
       "      <td>3IN4-B2B</td>\n",
       "    </tr>\n",
       "    <tr>\n",
       "      <th>2016-11-12</th>\n",
       "      <td>2016-2017 Regular Season</td>\n",
       "      <td>19:30:00</td>\n",
       "      <td>Philadelphia</td>\n",
       "      <td>Atlanta</td>\n",
       "      <td>240</td>\n",
       "      <td>96</td>\n",
       "      <td>117</td>\n",
       "      <td>3IN4-B2B</td>\n",
       "      <td>2</td>\n",
       "    </tr>\n",
       "    <tr>\n",
       "      <th>2016-11-12</th>\n",
       "      <td>2016-2017 Regular Season</td>\n",
       "      <td>20:00:00</td>\n",
       "      <td>Washington</td>\n",
       "      <td>Chicago</td>\n",
       "      <td>240</td>\n",
       "      <td>95</td>\n",
       "      <td>106</td>\n",
       "      <td>3IN4-B2B</td>\n",
       "      <td>3IN4</td>\n",
       "    </tr>\n",
       "    <tr>\n",
       "      <th>2016-11-12</th>\n",
       "      <td>2016-2017 Regular Season</td>\n",
       "      <td>20:00:00</td>\n",
       "      <td>San Antonio</td>\n",
       "      <td>Houston</td>\n",
       "      <td>240</td>\n",
       "      <td>106</td>\n",
       "      <td>100</td>\n",
       "      <td>3IN4-B2B</td>\n",
       "      <td>2</td>\n",
       "    </tr>\n",
       "    <tr>\n",
       "      <th>2016-11-12</th>\n",
       "      <td>2016-2017 Regular Season</td>\n",
       "      <td>20:00:00</td>\n",
       "      <td>LA Clippers</td>\n",
       "      <td>Minnesota</td>\n",
       "      <td>240</td>\n",
       "      <td>119</td>\n",
       "      <td>105</td>\n",
       "      <td>3IN4-B2B</td>\n",
       "      <td>2</td>\n",
       "    </tr>\n",
       "    <tr>\n",
       "      <th>2016-11-12</th>\n",
       "      <td>2016-2017 Regular Season</td>\n",
       "      <td>20:00:00</td>\n",
       "      <td>Utah</td>\n",
       "      <td>Miami</td>\n",
       "      <td>240</td>\n",
       "      <td>102</td>\n",
       "      <td>91</td>\n",
       "      <td>3IN4-B2B</td>\n",
       "      <td>1</td>\n",
       "    </tr>\n",
       "    <tr>\n",
       "      <th>2016-11-12</th>\n",
       "      <td>2016-2017 Regular Season</td>\n",
       "      <td>20:30:00</td>\n",
       "      <td>Memphis</td>\n",
       "      <td>Milwaukee</td>\n",
       "      <td>240</td>\n",
       "      <td>96</td>\n",
       "      <td>106</td>\n",
       "      <td>3+</td>\n",
       "      <td>1</td>\n",
       "    </tr>\n",
       "    <tr>\n",
       "      <th>2016-11-12</th>\n",
       "      <td>2016-2017 Regular Season</td>\n",
       "      <td>21:00:00</td>\n",
       "      <td>Detroit</td>\n",
       "      <td>Denver</td>\n",
       "      <td>240</td>\n",
       "      <td>106</td>\n",
       "      <td>95</td>\n",
       "      <td>3IN4-B2B</td>\n",
       "      <td>1</td>\n",
       "    </tr>\n",
       "    <tr>\n",
       "      <th>2016-11-12</th>\n",
       "      <td>2016-2017 Regular Season</td>\n",
       "      <td>21:00:00</td>\n",
       "      <td>Brooklyn</td>\n",
       "      <td>Phoenix</td>\n",
       "      <td>240</td>\n",
       "      <td>122</td>\n",
       "      <td>104</td>\n",
       "      <td>2</td>\n",
       "      <td>2</td>\n",
       "    </tr>\n",
       "    <tr>\n",
       "      <th>2016-11-13</th>\n",
       "      <td>2016-2017 Regular Season</td>\n",
       "      <td>15:30:00</td>\n",
       "      <td>Charlotte</td>\n",
       "      <td>Cleveland</td>\n",
       "      <td>240</td>\n",
       "      <td>93</td>\n",
       "      <td>100</td>\n",
       "      <td>1</td>\n",
       "      <td>1</td>\n",
       "    </tr>\n",
       "    <tr>\n",
       "      <th>2016-11-13</th>\n",
       "      <td>2016-2017 Regular Season</td>\n",
       "      <td>19:00:00</td>\n",
       "      <td>Orlando</td>\n",
       "      <td>Oklahoma City</td>\n",
       "      <td>240</td>\n",
       "      <td>119</td>\n",
       "      <td>117</td>\n",
       "      <td>1</td>\n",
       "      <td>1</td>\n",
       "    </tr>\n",
       "    <tr>\n",
       "      <th>2016-11-13</th>\n",
       "      <td>2016-2017 Regular Season</td>\n",
       "      <td>19:00:00</td>\n",
       "      <td>LA Lakers</td>\n",
       "      <td>Minnesota</td>\n",
       "      <td>240</td>\n",
       "      <td>99</td>\n",
       "      <td>125</td>\n",
       "      <td>3IN4-B2B</td>\n",
       "      <td>B2B</td>\n",
       "    </tr>\n",
       "    <tr>\n",
       "      <th>2016-11-13</th>\n",
       "      <td>2016-2017 Regular Season</td>\n",
       "      <td>20:00:00</td>\n",
       "      <td>Phoenix</td>\n",
       "      <td>Golden State</td>\n",
       "      <td>240</td>\n",
       "      <td>120</td>\n",
       "      <td>133</td>\n",
       "      <td>B2B</td>\n",
       "      <td>2</td>\n",
       "    </tr>\n",
       "    <tr>\n",
       "      <th>2016-11-13</th>\n",
       "      <td>2016-2017 Regular Season</td>\n",
       "      <td>21:00:00</td>\n",
       "      <td>Denver</td>\n",
       "      <td>Portland</td>\n",
       "      <td>240</td>\n",
       "      <td>105</td>\n",
       "      <td>112</td>\n",
       "      <td>3IN4-B2B</td>\n",
       "      <td>1</td>\n",
       "    </tr>\n",
       "    <tr>\n",
       "      <th>2016-11-14</th>\n",
       "      <td>2016-2017 Regular Season</td>\n",
       "      <td>19:00:00</td>\n",
       "      <td>Orlando</td>\n",
       "      <td>Indiana</td>\n",
       "      <td>240</td>\n",
       "      <td>69</td>\n",
       "      <td>88</td>\n",
       "      <td>3IN4-B2B</td>\n",
       "      <td>3IN4</td>\n",
       "    </tr>\n",
       "    <tr>\n",
       "      <th>2016-11-14</th>\n",
       "      <td>2016-2017 Regular Season</td>\n",
       "      <td>19:30:00</td>\n",
       "      <td>Dallas</td>\n",
       "      <td>New York</td>\n",
       "      <td>240</td>\n",
       "      <td>77</td>\n",
       "      <td>93</td>\n",
       "      <td>3+</td>\n",
       "      <td>3IN4</td>\n",
       "    </tr>\n",
       "    <tr>\n",
       "      <th>2016-11-14</th>\n",
       "      <td>2016-2017 Regular Season</td>\n",
       "      <td>19:30:00</td>\n",
       "      <td>Oklahoma City</td>\n",
       "      <td>Detroit</td>\n",
       "      <td>240</td>\n",
       "      <td>88</td>\n",
       "      <td>104</td>\n",
       "      <td>3IN4-B2B</td>\n",
       "      <td>3IN4</td>\n",
       "    </tr>\n",
       "    <tr>\n",
       "      <th>2016-11-14</th>\n",
       "      <td>2016-2017 Regular Season</td>\n",
       "      <td>20:00:00</td>\n",
       "      <td>Boston</td>\n",
       "      <td>New Orleans</td>\n",
       "      <td>240</td>\n",
       "      <td>105</td>\n",
       "      <td>106</td>\n",
       "      <td>3IN4</td>\n",
       "      <td>1</td>\n",
       "    </tr>\n",
       "    <tr>\n",
       "      <th>2016-11-14</th>\n",
       "      <td>2016-2017 Regular Season</td>\n",
       "      <td>20:00:00</td>\n",
       "      <td>Philadelphia</td>\n",
       "      <td>Houston</td>\n",
       "      <td>240</td>\n",
       "      <td>88</td>\n",
       "      <td>115</td>\n",
       "      <td>3IN4</td>\n",
       "      <td>1</td>\n",
       "    </tr>\n",
       "    <tr>\n",
       "      <th>2016-11-14</th>\n",
       "      <td>2016-2017 Regular Season</td>\n",
       "      <td>20:30:00</td>\n",
       "      <td>Miami</td>\n",
       "      <td>San Antonio</td>\n",
       "      <td>240</td>\n",
       "      <td>90</td>\n",
       "      <td>94</td>\n",
       "      <td>1</td>\n",
       "      <td>3IN4</td>\n",
       "    </tr>\n",
       "  </tbody>\n",
       "</table>\n",
       "</div>"
      ],
      "text/plain": [
       "                             DATASET      TIME      ROAD TEAM      HOME TEAM  \\\n",
       "DATE                                                                           \n",
       "2016-11-09  2016-2017 Regular Season  19:30:00        Chicago        Atlanta   \n",
       "2016-11-09  2016-2017 Regular Season  20:00:00        Toronto  Oklahoma City   \n",
       "2016-11-09  2016-2017 Regular Season  21:00:00        Detroit        Phoenix   \n",
       "2016-11-09  2016-2017 Regular Season  21:30:00        Houston    San Antonio   \n",
       "2016-11-09  2016-2017 Regular Season  22:30:00       Portland    LA Clippers   \n",
       "2016-11-09  2016-2017 Regular Season  22:30:00         Dallas   Golden State   \n",
       "2016-11-10  2016-2017 Regular Season  20:00:00    New Orleans      Milwaukee   \n",
       "2016-11-10  2016-2017 Regular Season  20:00:00        Chicago          Miami   \n",
       "2016-11-10  2016-2017 Regular Season  21:00:00   Golden State         Denver   \n",
       "2016-11-10  2016-2017 Regular Season  22:30:00      LA Lakers     Sacramento   \n",
       "2016-11-11  2016-2017 Regular Season  19:00:00        Indiana   Philadelphia   \n",
       "2016-11-11  2016-2017 Regular Season  19:00:00      Cleveland     Washington   \n",
       "2016-11-11  2016-2017 Regular Season  19:00:00        Toronto      Charlotte   \n",
       "2016-11-11  2016-2017 Regular Season  19:00:00           Utah        Orlando   \n",
       "2016-11-11  2016-2017 Regular Season  19:30:00       New York         Boston   \n",
       "2016-11-11  2016-2017 Regular Season  20:00:00    LA Clippers  Oklahoma City   \n",
       "2016-11-11  2016-2017 Regular Season  20:30:00        Detroit    San Antonio   \n",
       "2016-11-11  2016-2017 Regular Season  22:00:00     Sacramento       Portland   \n",
       "2016-11-12  2016-2017 Regular Season  19:00:00      LA Lakers    New Orleans   \n",
       "2016-11-12  2016-2017 Regular Season  19:00:00         Boston        Indiana   \n",
       "2016-11-12  2016-2017 Regular Season  19:30:00       New York        Toronto   \n",
       "2016-11-12  2016-2017 Regular Season  19:30:00   Philadelphia        Atlanta   \n",
       "2016-11-12  2016-2017 Regular Season  20:00:00     Washington        Chicago   \n",
       "2016-11-12  2016-2017 Regular Season  20:00:00    San Antonio        Houston   \n",
       "2016-11-12  2016-2017 Regular Season  20:00:00    LA Clippers      Minnesota   \n",
       "2016-11-12  2016-2017 Regular Season  20:00:00           Utah          Miami   \n",
       "2016-11-12  2016-2017 Regular Season  20:30:00        Memphis      Milwaukee   \n",
       "2016-11-12  2016-2017 Regular Season  21:00:00        Detroit         Denver   \n",
       "2016-11-12  2016-2017 Regular Season  21:00:00       Brooklyn        Phoenix   \n",
       "2016-11-13  2016-2017 Regular Season  15:30:00      Charlotte      Cleveland   \n",
       "2016-11-13  2016-2017 Regular Season  19:00:00        Orlando  Oklahoma City   \n",
       "2016-11-13  2016-2017 Regular Season  19:00:00      LA Lakers      Minnesota   \n",
       "2016-11-13  2016-2017 Regular Season  20:00:00        Phoenix   Golden State   \n",
       "2016-11-13  2016-2017 Regular Season  21:00:00         Denver       Portland   \n",
       "2016-11-14  2016-2017 Regular Season  19:00:00        Orlando        Indiana   \n",
       "2016-11-14  2016-2017 Regular Season  19:30:00         Dallas       New York   \n",
       "2016-11-14  2016-2017 Regular Season  19:30:00  Oklahoma City        Detroit   \n",
       "2016-11-14  2016-2017 Regular Season  20:00:00         Boston    New Orleans   \n",
       "2016-11-14  2016-2017 Regular Season  20:00:00   Philadelphia        Houston   \n",
       "2016-11-14  2016-2017 Regular Season  20:30:00          Miami    San Antonio   \n",
       "\n",
       "            TOTAL GAME MINUTES  ROAD TEAM FINAL SCORE  HOME TEAM FINAL SCORE  \\\n",
       "DATE                                                                           \n",
       "2016-11-09                 240                    107                    115   \n",
       "2016-11-09                 240                    112                    102   \n",
       "2016-11-09                 240                    100                    107   \n",
       "2016-11-09                 240                    101                     99   \n",
       "2016-11-09                 240                     80                    111   \n",
       "2016-11-09                 240                     95                    116   \n",
       "2016-11-10                 240                    112                    106   \n",
       "2016-11-10                 240                     98                     95   \n",
       "2016-11-10                 240                    125                    101   \n",
       "2016-11-10                 240                    101                     91   \n",
       "2016-11-11                 265                    105                    109   \n",
       "2016-11-11                 240                    105                     94   \n",
       "2016-11-11                 240                    113                    111   \n",
       "2016-11-11                 240                     87                     74   \n",
       "2016-11-11                 240                     87                    115   \n",
       "2016-11-11                 240                    110                    108   \n",
       "2016-11-11                 240                     86                     96   \n",
       "2016-11-11                 265                    120                    122   \n",
       "2016-11-12                 240                    126                     99   \n",
       "2016-11-12                 240                    105                     99   \n",
       "2016-11-12                 240                    107                    118   \n",
       "2016-11-12                 240                     96                    117   \n",
       "2016-11-12                 240                     95                    106   \n",
       "2016-11-12                 240                    106                    100   \n",
       "2016-11-12                 240                    119                    105   \n",
       "2016-11-12                 240                    102                     91   \n",
       "2016-11-12                 240                     96                    106   \n",
       "2016-11-12                 240                    106                     95   \n",
       "2016-11-12                 240                    122                    104   \n",
       "2016-11-13                 240                     93                    100   \n",
       "2016-11-13                 240                    119                    117   \n",
       "2016-11-13                 240                     99                    125   \n",
       "2016-11-13                 240                    120                    133   \n",
       "2016-11-13                 240                    105                    112   \n",
       "2016-11-14                 240                     69                     88   \n",
       "2016-11-14                 240                     77                     93   \n",
       "2016-11-14                 240                     88                    104   \n",
       "2016-11-14                 240                    105                    106   \n",
       "2016-11-14                 240                     88                    115   \n",
       "2016-11-14                 240                     90                     94   \n",
       "\n",
       "           ROAD TEAM REST HOME TEAM REST  \n",
       "DATE                                      \n",
       "2016-11-09              1            B2B  \n",
       "2016-11-09              2              1  \n",
       "2016-11-09              1       3IN4-B2B  \n",
       "2016-11-09              1             3+  \n",
       "2016-11-09       3IN4-B2B              1  \n",
       "2016-11-09       3IN4-B2B              1  \n",
       "2016-11-10           3IN4             3+  \n",
       "2016-11-10       3IN4-B2B              2  \n",
       "2016-11-10       3IN4-B2B              1  \n",
       "2016-11-10              1              1  \n",
       "2016-11-11              1              1  \n",
       "2016-11-11              2              1  \n",
       "2016-11-11              1              1  \n",
       "2016-11-11              1              1  \n",
       "2016-11-11              1              1  \n",
       "2016-11-11              1              1  \n",
       "2016-11-11              1              1  \n",
       "2016-11-11       3IN4-B2B           3IN4  \n",
       "2016-11-12              1              1  \n",
       "2016-11-12       3IN4-B2B       3IN4-B2B  \n",
       "2016-11-12       3IN4-B2B       3IN4-B2B  \n",
       "2016-11-12       3IN4-B2B              2  \n",
       "2016-11-12       3IN4-B2B           3IN4  \n",
       "2016-11-12       3IN4-B2B              2  \n",
       "2016-11-12       3IN4-B2B              2  \n",
       "2016-11-12       3IN4-B2B              1  \n",
       "2016-11-12             3+              1  \n",
       "2016-11-12       3IN4-B2B              1  \n",
       "2016-11-12              2              2  \n",
       "2016-11-13              1              1  \n",
       "2016-11-13              1              1  \n",
       "2016-11-13       3IN4-B2B            B2B  \n",
       "2016-11-13            B2B              2  \n",
       "2016-11-13       3IN4-B2B              1  \n",
       "2016-11-14       3IN4-B2B           3IN4  \n",
       "2016-11-14             3+           3IN4  \n",
       "2016-11-14       3IN4-B2B           3IN4  \n",
       "2016-11-14           3IN4              1  \n",
       "2016-11-14           3IN4              1  \n",
       "2016-11-14              1           3IN4  "
      ]
     },
     "execution_count": 52,
     "metadata": {},
     "output_type": "execute_result"
    }
   ],
   "source": [
    "rs[110:150]"
   ]
  },
  {
   "cell_type": "code",
   "execution_count": null,
   "metadata": {
    "ExecuteTime": {
     "start_time": "2018-03-01T21:33:23.600Z"
    }
   },
   "outputs": [
    {
     "data": {
      "text/html": [
       "<div>\n",
       "<style>\n",
       "    .dataframe thead tr:only-child th {\n",
       "        text-align: right;\n",
       "    }\n",
       "\n",
       "    .dataframe thead th {\n",
       "        text-align: left;\n",
       "    }\n",
       "\n",
       "    .dataframe tbody tr th {\n",
       "        vertical-align: top;\n",
       "    }\n",
       "</style>\n",
       "<table border=\"1\" class=\"dataframe\">\n",
       "  <thead>\n",
       "    <tr style=\"text-align: right;\">\n",
       "      <th></th>\n",
       "      <th>DATASET</th>\n",
       "      <th>TIME</th>\n",
       "      <th>ROAD TEAM</th>\n",
       "      <th>HOME TEAM</th>\n",
       "      <th>TOTAL GAME MINUTES</th>\n",
       "      <th>ROAD TEAM FINAL SCORE</th>\n",
       "      <th>HOME TEAM FINAL SCORE</th>\n",
       "      <th>ROAD TEAM REST</th>\n",
       "      <th>HOME TEAM REST</th>\n",
       "    </tr>\n",
       "    <tr>\n",
       "      <th>DATE</th>\n",
       "      <th></th>\n",
       "      <th></th>\n",
       "      <th></th>\n",
       "      <th></th>\n",
       "      <th></th>\n",
       "      <th></th>\n",
       "      <th></th>\n",
       "      <th></th>\n",
       "      <th></th>\n",
       "    </tr>\n",
       "  </thead>\n",
       "  <tbody>\n",
       "    <tr>\n",
       "      <th>2016-10-27</th>\n",
       "      <td>2016-2017 Regular Season</td>\n",
       "      <td>20:00:00</td>\n",
       "      <td>Boston</td>\n",
       "      <td>Chicago</td>\n",
       "      <td>240</td>\n",
       "      <td>99</td>\n",
       "      <td>105</td>\n",
       "      <td>B2B</td>\n",
       "      <td>3+</td>\n",
       "    </tr>\n",
       "    <tr>\n",
       "      <th>2016-11-02</th>\n",
       "      <td>2016-2017 Regular Season</td>\n",
       "      <td>19:00:00</td>\n",
       "      <td>Philadelphia</td>\n",
       "      <td>Charlotte</td>\n",
       "      <td>240</td>\n",
       "      <td>93</td>\n",
       "      <td>109</td>\n",
       "      <td>B2B</td>\n",
       "      <td>3+</td>\n",
       "    </tr>\n",
       "    <tr>\n",
       "      <th>2016-11-16</th>\n",
       "      <td>2016-2017 Regular Season</td>\n",
       "      <td>19:30:00</td>\n",
       "      <td>Milwaukee</td>\n",
       "      <td>Atlanta</td>\n",
       "      <td>240</td>\n",
       "      <td>100</td>\n",
       "      <td>107</td>\n",
       "      <td>3+</td>\n",
       "      <td>B2B</td>\n",
       "    </tr>\n",
       "    <tr>\n",
       "      <th>2017-01-03</th>\n",
       "      <td>2016-2017 Regular Season</td>\n",
       "      <td>20:30:00</td>\n",
       "      <td>Washington</td>\n",
       "      <td>Dallas</td>\n",
       "      <td>240</td>\n",
       "      <td>105</td>\n",
       "      <td>113</td>\n",
       "      <td>B2B</td>\n",
       "      <td>3+</td>\n",
       "    </tr>\n",
       "    <tr>\n",
       "      <th>2017-02-24</th>\n",
       "      <td>2016-2017 Regular Season</td>\n",
       "      <td>21:00:00</td>\n",
       "      <td>Brooklyn</td>\n",
       "      <td>Denver</td>\n",
       "      <td>240</td>\n",
       "      <td>109</td>\n",
       "      <td>129</td>\n",
       "      <td>3+</td>\n",
       "      <td>B2B</td>\n",
       "    </tr>\n",
       "    <tr>\n",
       "      <th>2017-02-24</th>\n",
       "      <td>2016-2017 Regular Season</td>\n",
       "      <td>22:30:00</td>\n",
       "      <td>San Antonio</td>\n",
       "      <td>LA Clippers</td>\n",
       "      <td>240</td>\n",
       "      <td>105</td>\n",
       "      <td>97</td>\n",
       "      <td>3+</td>\n",
       "      <td>B2B</td>\n",
       "    </tr>\n",
       "    <tr>\n",
       "      <th>2017-04-06</th>\n",
       "      <td>2016-2017 Regular Season</td>\n",
       "      <td>20:00:00</td>\n",
       "      <td>Boston</td>\n",
       "      <td>Atlanta</td>\n",
       "      <td>240</td>\n",
       "      <td>116</td>\n",
       "      <td>123</td>\n",
       "      <td>B2B</td>\n",
       "      <td>3+</td>\n",
       "    </tr>\n",
       "  </tbody>\n",
       "</table>\n",
       "</div>"
      ],
      "text/plain": [
       "                             DATASET      TIME     ROAD TEAM    HOME TEAM  \\\n",
       "DATE                                                                        \n",
       "2016-10-27  2016-2017 Regular Season  20:00:00        Boston      Chicago   \n",
       "2016-11-02  2016-2017 Regular Season  19:00:00  Philadelphia    Charlotte   \n",
       "2016-11-16  2016-2017 Regular Season  19:30:00     Milwaukee      Atlanta   \n",
       "2017-01-03  2016-2017 Regular Season  20:30:00    Washington       Dallas   \n",
       "2017-02-24  2016-2017 Regular Season  21:00:00      Brooklyn       Denver   \n",
       "2017-02-24  2016-2017 Regular Season  22:30:00   San Antonio  LA Clippers   \n",
       "2017-04-06  2016-2017 Regular Season  20:00:00        Boston      Atlanta   \n",
       "\n",
       "            TOTAL GAME MINUTES  ROAD TEAM FINAL SCORE  HOME TEAM FINAL SCORE  \\\n",
       "DATE                                                                           \n",
       "2016-10-27                 240                     99                    105   \n",
       "2016-11-02                 240                     93                    109   \n",
       "2016-11-16                 240                    100                    107   \n",
       "2017-01-03                 240                    105                    113   \n",
       "2017-02-24                 240                    109                    129   \n",
       "2017-02-24                 240                    105                     97   \n",
       "2017-04-06                 240                    116                    123   \n",
       "\n",
       "           ROAD TEAM REST HOME TEAM REST  \n",
       "DATE                                      \n",
       "2016-10-27            B2B             3+  \n",
       "2016-11-02            B2B             3+  \n",
       "2016-11-16             3+            B2B  \n",
       "2017-01-03            B2B             3+  \n",
       "2017-02-24             3+            B2B  \n",
       "2017-02-24             3+            B2B  \n",
       "2017-04-06            B2B             3+  "
      ]
     },
     "execution_count": 53,
     "metadata": {},
     "output_type": "execute_result"
    }
   ],
   "source": [
    "rs[((rs['ROAD TEAM REST']=='B2B') & (rs['HOME TEAM REST']=='3+')) | ((rs['ROAD TEAM REST']=='3+') & (rs['HOME TEAM REST']=='B2B'))] "
   ]
  },
  {
   "cell_type": "code",
   "execution_count": null,
   "metadata": {
    "ExecuteTime": {
     "start_time": "2018-03-01T21:33:23.621Z"
    }
   },
   "outputs": [],
   "source": [
    "rs[rs['ROAD TEAM REST'].str.contains('B2B')==True]"
   ]
  },
  {
   "cell_type": "code",
   "execution_count": null,
   "metadata": {
    "ExecuteTime": {
     "start_time": "2018-03-01T21:33:23.629Z"
    }
   },
   "outputs": [],
   "source": [
    "# subset games where home team is on 2 days rest and away team is playing a back-to-back\n",
    "\n",
    "home2dr_awayB2B = rs[((rs['ROAD TEAM REST'].str.contains('B2B')==True) & (rs['HOME TEAM REST']==2))] \n",
    "\n",
    "len(home2dr_awayB2B)"
   ]
  },
  {
   "cell_type": "code",
   "execution_count": null,
   "metadata": {
    "ExecuteTime": {
     "start_time": "2018-03-01T21:33:23.636Z"
    }
   },
   "outputs": [],
   "source": [
    "# when home team was on 2 days rest and plays away team on back-to-back, the home team won ~64% of the games played \n",
    "\n",
    "len(home2dr_awayB2B[home2dr_awayB2B['HOME TEAM FINAL SCORE']>home2dr_awayB2B['ROAD TEAM FINAL SCORE']])/len(home2dr_awayB2B)"
   ]
  },
  {
   "cell_type": "code",
   "execution_count": null,
   "metadata": {
    "ExecuteTime": {
     "start_time": "2018-03-01T21:33:23.645Z"
    }
   },
   "outputs": [],
   "source": [
    "# subset games where both home team and away team are playing back-to-backs\n",
    "\n",
    "homeB2B_awayB2B = rs[((rs['ROAD TEAM REST'].str.contains('B2B')==True) & (rs['HOME TEAM REST'].str.contains('B2B')==True))] \n",
    "\n",
    "len(homeB2B_awayB2B)"
   ]
  },
  {
   "cell_type": "code",
   "execution_count": null,
   "metadata": {
    "ExecuteTime": {
     "start_time": "2018-03-01T21:33:23.652Z"
    }
   },
   "outputs": [],
   "source": [
    "# when both home team wand away team played on a back-to-back, the home team won ~58% of the games played \n",
    "\n",
    "len(homeB2B_awayB2B[homeB2B_awayB2B['HOME TEAM FINAL SCORE']>homeB2B_awayB2B['ROAD TEAM FINAL SCORE']])/len(homeB2B_awayB2B)"
   ]
  },
  {
   "cell_type": "code",
   "execution_count": null,
   "metadata": {
    "ExecuteTime": {
     "start_time": "2018-03-01T21:33:23.660Z"
    }
   },
   "outputs": [],
   "source": [
    "# subset games where home team played a back-to-back and away team had 2 days rest\n",
    "\n",
    "homeB2B_away2dr = rs[((rs['ROAD TEAM REST']==2) & (rs['HOME TEAM REST'].str.contains('B2B')==True))] \n",
    "\n",
    "len(homeB2B_away2dr)"
   ]
  },
  {
   "cell_type": "code",
   "execution_count": null,
   "metadata": {
    "ExecuteTime": {
     "start_time": "2018-03-01T21:33:23.668Z"
    }
   },
   "outputs": [],
   "source": [
    "# when home team played a back-to-back and away team had 2 days rest the home team won only 40% of the time (only 20 games like this)\n",
    "\n",
    "len(homeB2B_away2dr[homeB2B_away2dr['HOME TEAM FINAL SCORE']>homeB2B_away2dr['ROAD TEAM FINAL SCORE']])/len(homeB2B_away2dr)"
   ]
  },
  {
   "cell_type": "code",
   "execution_count": null,
   "metadata": {
    "ExecuteTime": {
     "start_time": "2018-03-01T21:33:23.678Z"
    }
   },
   "outputs": [],
   "source": [
    "# plotting points scored by home and away team as function of time (most days have more than one game played on them)\n",
    "\n",
    "rs['HOME TEAM FINAL SCORE'].plot()\n",
    "rs['ROAD TEAM FINAL SCORE'].plot()"
   ]
  },
  {
   "cell_type": "code",
   "execution_count": null,
   "metadata": {
    "ExecuteTime": {
     "start_time": "2018-03-01T21:33:23.686Z"
    },
    "collapsed": true
   },
   "outputs": [],
   "source": [
    "rest_levels=('4IN5-B2B', '3IN4-B2B', 'B2B', '3IN4', 1, 2, '3+')"
   ]
  },
  {
   "cell_type": "code",
   "execution_count": null,
   "metadata": {
    "ExecuteTime": {
     "start_time": "2018-03-01T21:33:23.694Z"
    },
    "collapsed": true
   },
   "outputs": [],
   "source": [
    "# calculating joint empirical probabilities of winning for home/away status and level of rest \n",
    "# and accumulating results in a nested dictionary \n",
    "\n",
    "home_restAndWinPct = []\n",
    "road_restAndWinPct = []\n",
    "rest_homeOrAway_dict = {}\n",
    "\n",
    "for rest in reversed(rest_levels):\n",
    "    homeTotGamesAtRestLevel= len(rs[rs['HOME TEAM REST']==rest])\n",
    "    homeWinsAtRestLevel= len(rs[(rs[\"HOME TEAM FINAL SCORE\"]>rs[\"ROAD TEAM FINAL SCORE\"]) & (rs['HOME TEAM REST']==rest)])\n",
    "    # home_restAndWinPct.append([rest, round(homeWinsAtRestLevel/homeTotGamesAtRestLevel,2), homeTotGamesAtRestLevel])\n",
    "    \n",
    "    roadTotGamesAtRestLevel= len(rs[rs['ROAD TEAM REST']==rest])\n",
    "    roadWinsAtRestLevel= len(rs[(rs[\"ROAD TEAM FINAL SCORE\"]>rs[\"HOME TEAM FINAL SCORE\"]) & (rs['ROAD TEAM REST']==rest)])\n",
    "    # road_restAndWinPct.append([rest, round(roadWinsAtRestLevel/roadTotGamesAtRestLevel,2), roadTotGamesAtRestLevel])\n",
    "    \n",
    "    rest_homeOrAway_dict[rest]={}\n",
    "    rest_homeOrAway_dict[rest]['HOME'] = round(homeWinsAtRestLevel/homeTotGamesAtRestLevel,2)\n",
    "    rest_homeOrAway_dict[rest]['AWAY'] = round(roadWinsAtRestLevel/roadTotGamesAtRestLevel,2)"
   ]
  },
  {
   "cell_type": "code",
   "execution_count": null,
   "metadata": {
    "ExecuteTime": {
     "start_time": "2018-03-01T21:33:23.702Z"
    }
   },
   "outputs": [],
   "source": [
    "rest_homeOrAway_dict"
   ]
  },
  {
   "cell_type": "code",
   "execution_count": null,
   "metadata": {
    "ExecuteTime": {
     "start_time": "2018-03-01T21:33:23.712Z"
    },
    "collapsed": true
   },
   "outputs": [],
   "source": [
    "rest_homeOrAway_df = pd.DataFrame(rest_homeOrAway_dict)"
   ]
  },
  {
   "cell_type": "code",
   "execution_count": null,
   "metadata": {
    "ExecuteTime": {
     "start_time": "2018-03-01T21:33:23.722Z"
    }
   },
   "outputs": [],
   "source": [
    "rest_homeOrAway_df"
   ]
  },
  {
   "cell_type": "code",
   "execution_count": null,
   "metadata": {
    "ExecuteTime": {
     "start_time": "2018-03-01T21:33:23.730Z"
    },
    "collapsed": true
   },
   "outputs": [],
   "source": [
    "rest_homeOrAway_df = rest_homeOrAway_df.transpose()"
   ]
  },
  {
   "cell_type": "code",
   "execution_count": null,
   "metadata": {
    "ExecuteTime": {
     "start_time": "2018-03-01T21:33:23.738Z"
    }
   },
   "outputs": [],
   "source": [
    "rest_homeOrAway_df"
   ]
  },
  {
   "cell_type": "code",
   "execution_count": null,
   "metadata": {
    "ExecuteTime": {
     "start_time": "2018-03-01T21:33:23.754Z"
    }
   },
   "outputs": [],
   "source": [
    "# generate paired barchart in plotly team comparing home and away winning pct grouped by rest level\n",
    "# More rest generally increases win pct for home team, while road teams have optimal win pct with about 1 day of rest \n",
    "# too much rest decreases road team win pct relative to 1 day rest (or '3IN4')\n",
    "\n",
    "\n",
    "trace1 = go.Bar(\n",
    "    x=rest_homeOrAway_df.index,\n",
    "    y=rest_homeOrAway_df['HOME'],\n",
    "    name='Home'\n",
    ")\n",
    "\n",
    "trace2 = go.Bar(\n",
    "     x=rest_homeOrAway_df.index,\n",
    "    y=rest_homeOrAway_df['AWAY'],\n",
    "    name='Away'\n",
    ")\n",
    "\n",
    "data = [trace1, trace2]\n",
    "layout = go.Layout(\n",
    "    title='Home and Away Winning Percentage By Rest Level',\n",
    "    barmode='group'\n",
    ")\n",
    "\n",
    "fig = go.Figure(data=data, layout=layout)\n",
    "py.iplot(fig, filename='grouped-bar')"
   ]
  },
  {
   "cell_type": "code",
   "execution_count": null,
   "metadata": {
    "ExecuteTime": {
     "start_time": "2018-03-01T21:33:23.765Z"
    },
    "collapsed": true
   },
   "outputs": [],
   "source": [
    "# calculating joint empirical probabilities of winning for home team given rest level of home team \n",
    "# and rest level of road team opponent\n",
    "# accumulating results in a nested dictionary \n",
    "\n",
    "homeWinPct_byRestLev_dict = {}\n",
    "tally = 0\n",
    "\n",
    "for rest_home in reversed(rest_levels):\n",
    "    homeWinPct_byRestLev_dict[rest_home]={}\n",
    "    \n",
    "    for rest_away in reversed(rest_levels):\n",
    "        gamesAtRestLevs= rs[(rs['HOME TEAM REST']==rest_home) & (rs['ROAD TEAM REST']==rest_away)]\n",
    "        totGamesAtRestLevs= len(gamesAtRestLevs)\n",
    "        homeWinsAtRestLevs= len(gamesAtRestLevs[gamesAtRestLevs[\"HOME TEAM FINAL SCORE\"]>gamesAtRestLevs[\"ROAD TEAM FINAL SCORE\"]]) \n",
    "        # home_restAndWinPct.append([rest, round(homeWinsAtRestLevel/homeTotGamesAtRestLevel,2), homeTotGamesAtRestLevel])\n",
    "        \n",
    "        tally += totGamesAtRestLevs\n",
    "        \n",
    "        # only record home win percentage if at least 10 games were played for combination of rest levels\n",
    "        if len(gamesAtRestLevs)>=10:\n",
    "            homeWinPct_byRestLev_dict[rest_home][rest_away] = round(homeWinsAtRestLevs/totGamesAtRestLevs,2)\n",
    "\n",
    "        else:\n",
    "            homeWinPct_byRestLev_dict[rest_home][rest_away] = float('NaN')"
   ]
  },
  {
   "cell_type": "code",
   "execution_count": null,
   "metadata": {
    "ExecuteTime": {
     "start_time": "2018-03-01T21:33:23.778Z"
    }
   },
   "outputs": [],
   "source": [
    "homeWinPct_byRestLev_dict"
   ]
  },
  {
   "cell_type": "code",
   "execution_count": null,
   "metadata": {
    "ExecuteTime": {
     "start_time": "2018-03-01T21:33:23.787Z"
    }
   },
   "outputs": [],
   "source": [
    "# checking that tally this added up to all the regular season games (length of regular season df-- 1230)\n",
    "\n",
    "tally"
   ]
  },
  {
   "cell_type": "code",
   "execution_count": null,
   "metadata": {
    "ExecuteTime": {
     "start_time": "2018-03-01T21:33:23.797Z"
    },
    "collapsed": true
   },
   "outputs": [],
   "source": [
    "# convert dictionary to df\n",
    "\n",
    "homeWinPct_byRestLev_df = pd.DataFrame(homeWinPct_byRestLev_dict)"
   ]
  },
  {
   "cell_type": "code",
   "execution_count": null,
   "metadata": {
    "ExecuteTime": {
     "start_time": "2018-03-01T21:33:23.808Z"
    }
   },
   "outputs": [],
   "source": [
    "homeWinPct_byRestLev_df"
   ]
  },
  {
   "cell_type": "code",
   "execution_count": null,
   "metadata": {
    "ExecuteTime": {
     "start_time": "2018-03-01T21:33:23.822Z"
    }
   },
   "outputs": [],
   "source": [
    "# put home win pct as the row index and away win pct as the column index for consistency with previous dataframe groupings\n",
    "\n",
    "homeWinPct_byRestLev_df= homeWinPct_byRestLev_df.transpose()"
   ]
  },
  {
   "cell_type": "code",
   "execution_count": null,
   "metadata": {
    "ExecuteTime": {
     "start_time": "2018-03-01T21:33:23.832Z"
    }
   },
   "outputs": [],
   "source": [
    "rest_levels"
   ]
  },
  {
   "cell_type": "code",
   "execution_count": null,
   "metadata": {
    "ExecuteTime": {
     "start_time": "2018-03-01T21:33:23.844Z"
    },
    "collapsed": true
   },
   "outputs": [],
   "source": [
    "# simplify number of rest levels (combine them) so sample size is larger for 1 day of rest and 'B2B' levels\n",
    "# df.replace() method replaces throughout df \n",
    "\n",
    "rs_restCombined=rs.replace(['4IN5-B2B', '3IN4-B2B','3IN4'],['B2B','B2B',1])"
   ]
  },
  {
   "cell_type": "code",
   "execution_count": null,
   "metadata": {
    "ExecuteTime": {
     "start_time": "2018-03-01T21:33:23.854Z"
    }
   },
   "outputs": [],
   "source": [
    "set(rs_restCombined['ROAD TEAM REST'])"
   ]
  },
  {
   "cell_type": "code",
   "execution_count": null,
   "metadata": {
    "ExecuteTime": {
     "start_time": "2018-03-01T21:33:23.864Z"
    }
   },
   "outputs": [],
   "source": [
    "set(rs_restCombined['HOME TEAM REST'])"
   ]
  },
  {
   "cell_type": "code",
   "execution_count": null,
   "metadata": {
    "ExecuteTime": {
     "start_time": "2018-03-01T21:33:23.874Z"
    },
    "collapsed": true
   },
   "outputs": [],
   "source": [
    "# create combined level list for iterating over\n",
    "\n",
    "rest_levels_combined=('B2B',1,2,'3+')"
   ]
  },
  {
   "cell_type": "code",
   "execution_count": null,
   "metadata": {
    "ExecuteTime": {
     "start_time": "2018-03-01T21:33:23.885Z"
    },
    "collapsed": true
   },
   "outputs": [],
   "source": [
    "# calculating joint empirical probabilities of winning for home team given rest level of home team \n",
    "# and rest level of road team opponent as above BUT USING COMBINED REST LEVELS TO GIVE HIGHER SAMPLE SIZE FOR 'B2B' \n",
    "# AND 1 DAY OF REST.  Rest levels have been combined in preprocessed df 'rs_restCombined'\n",
    "# accumulating results in a nested dictionary \n",
    "\n",
    "homeWinPct_byRestLev_dict = {}\n",
    "tally = 0\n",
    "\n",
    "for rest_home in reversed(rest_levels_combined):\n",
    "    homeWinPct_byRestLev_dict[rest_home]={}\n",
    "    \n",
    "    for rest_away in reversed(rest_levels_combined):\n",
    "        gamesAtRestLevs= rs_restCombined[(rs_restCombined['HOME TEAM REST']==rest_home) & (rs_restCombined['ROAD TEAM REST']==rest_away)]\n",
    "        totGamesAtRestLevs= len(gamesAtRestLevs)\n",
    "        homeWinsAtRestLevs= len(gamesAtRestLevs[gamesAtRestLevs[\"HOME TEAM FINAL SCORE\"]>gamesAtRestLevs[\"ROAD TEAM FINAL SCORE\"]]) \n",
    "        # home_restAndWinPct.append([rest, round(homeWinsAtRestLevel/homeTotGamesAtRestLevel,2), homeTotGamesAtRestLevel])\n",
    "        \n",
    "        tally += totGamesAtRestLevs\n",
    "        \n",
    "        # only record home win percentage if at least 10 games were played for combination of rest levels\n",
    "        if len(gamesAtRestLevs)>=10:\n",
    "            homeWinPct_byRestLev_dict[rest_home][rest_away] = round(homeWinsAtRestLevs/totGamesAtRestLevs,2)\n",
    "\n",
    "        else:\n",
    "            homeWinPct_byRestLev_dict[rest_home][rest_away] = float('NaN')"
   ]
  },
  {
   "cell_type": "code",
   "execution_count": null,
   "metadata": {
    "ExecuteTime": {
     "start_time": "2018-03-01T21:33:23.895Z"
    }
   },
   "outputs": [],
   "source": [
    "tally"
   ]
  },
  {
   "cell_type": "code",
   "execution_count": null,
   "metadata": {
    "ExecuteTime": {
     "start_time": "2018-03-01T21:33:23.904Z"
    }
   },
   "outputs": [],
   "source": [
    "homeWinPct_byRestLev_dict"
   ]
  },
  {
   "cell_type": "code",
   "execution_count": null,
   "metadata": {
    "ExecuteTime": {
     "start_time": "2018-03-01T21:33:23.915Z"
    },
    "collapsed": true
   },
   "outputs": [],
   "source": [
    "# generate df from dictionary and then transpose the df to put home team rest levels on row index (put on 'y-axis')\n",
    "\n",
    "homeWinPct_byRestLev_combined_df = pd.DataFrame(homeWinPct_byRestLev_dict)\n",
    "homeWinPct_byRestLev_combined_df = homeWinPct_byRestLev_combined_df.transpose()"
   ]
  },
  {
   "cell_type": "code",
   "execution_count": null,
   "metadata": {
    "ExecuteTime": {
     "start_time": "2018-03-01T21:33:23.926Z"
    }
   },
   "outputs": [],
   "source": [
    "homeWinPct_byRestLev_combined_df"
   ]
  },
  {
   "cell_type": "code",
   "execution_count": null,
   "metadata": {
    "ExecuteTime": {
     "start_time": "2018-03-01T21:33:23.935Z"
    }
   },
   "outputs": [],
   "source": [
    "# DO TEAMS PLAY BETTER DEFENSE DURING THE PLAYOFFS?\n",
    "# scatterplot of game scores, with home team on y-axis and away team on x-axis\n",
    "\n",
    "# Create a regular season scatterplot for all regular season games\n",
    "trace_rs = go.Scatter(\n",
    "    x = rs['ROAD TEAM FINAL SCORE'],\n",
    "    y = rs['HOME TEAM FINAL SCORE'],\n",
    "    mode = 'markers',\n",
    "    name = 'reg season scores'\n",
    "    \n",
    "    \n",
    ")\n",
    "\n",
    "\n",
    "# Create a regular season scatterplot for all regular season games\n",
    "trace_po = go.Scatter(\n",
    "    x = po['ROAD TEAM FINAL SCORE'],\n",
    "    y = po['HOME TEAM FINAL SCORE'],\n",
    "    mode = 'markers',\n",
    "    name = 'playoff scores'\n",
    "    \n",
    "    \n",
    ")\n",
    "\n",
    "\n",
    "y_equals_x_line= go.Scatter(\n",
    "    x = np.linspace(65,150,150-65),\n",
    "    y = np.linspace(65,150,150-65),\n",
    "    mode = 'line',\n",
    "    name = 'y = x'\n",
    "\n",
    "\n",
    ")\n",
    "\n",
    "data = [trace_rs, trace_po, y_equals_x_line]\n",
    "\n",
    "layout=go.Layout(\n",
    "    title= '2016-2017 NBA Regular Season & Playoff Game Scores', \n",
    "    hovermode= 'closest',\n",
    "    xaxis= dict(title='Away Team Score'),\n",
    "    yaxis= dict(title='Home Team Score')\n",
    "\n",
    "\n",
    ")\n",
    "\n",
    "fig = go.Figure(data=data, layout=layout)\n",
    "\n",
    "# Plot and embed in ipython notebook!\n",
    "py.iplot(fig, filename='basic-scatter')\n",
    "\n"
   ]
  },
  {
   "cell_type": "code",
   "execution_count": null,
   "metadata": {
    "ExecuteTime": {
     "start_time": "2018-03-01T21:33:23.947Z"
    }
   },
   "outputs": [],
   "source": [
    "# Distributions of total points scored in regular season games (blue) \n",
    "# and playoff games (orange)\n",
    "\n",
    "sns.distplot(rs['ROAD TEAM FINAL SCORE']+rs['HOME TEAM FINAL SCORE'])\n",
    "sns.distplot(po['ROAD TEAM FINAL SCORE']+po['HOME TEAM FINAL SCORE'])"
   ]
  },
  {
   "cell_type": "code",
   "execution_count": null,
   "metadata": {
    "ExecuteTime": {
     "start_time": "2018-03-01T21:33:23.958Z"
    }
   },
   "outputs": [],
   "source": [
    "# Distributions of margin of victory in regular season games (blue) \n",
    "# and playoff games (orange)\n",
    "# SLIGHT SUGGESTION OF BIMODAL DIST FOR PLAYOFF MARGIN OF VICTORY (slight tendency for games to be close or blowout)\n",
    "\n",
    "sns.distplot(abs(rs['ROAD TEAM FINAL SCORE']-rs['HOME TEAM FINAL SCORE']))\n",
    "sns.distplot(abs(po['ROAD TEAM FINAL SCORE']-po['HOME TEAM FINAL SCORE']))"
   ]
  },
  {
   "cell_type": "code",
   "execution_count": null,
   "metadata": {
    "ExecuteTime": {
     "start_time": "2018-03-01T21:33:23.967Z"
    }
   },
   "outputs": [],
   "source": [
    "rs.columns"
   ]
  },
  {
   "cell_type": "code",
   "execution_count": null,
   "metadata": {
    "ExecuteTime": {
     "start_time": "2018-03-01T21:33:23.979Z"
    },
    "collapsed": true
   },
   "outputs": [],
   "source": [
    "# get team names for regular season\n",
    "\n",
    "rs_teams = set(rs['HOME TEAM'])"
   ]
  },
  {
   "cell_type": "code",
   "execution_count": null,
   "metadata": {
    "ExecuteTime": {
     "start_time": "2018-03-01T21:33:23.990Z"
    }
   },
   "outputs": [],
   "source": [
    "# create a dataframe for each team that adds an 'OUTCOME' column where outcome of each game with respect to\n",
    "# given team is recorded as 'W' or 'L'\n",
    "# dataframes for each team are accumulated in allTeam_allGames_dict\n",
    "\n",
    "allTeam_allGames_dict={}\n",
    "\n",
    "for team in list(rs_teams):\n",
    "    # subset games for each team and calculate percent wins at home\n",
    "    team_allGames = rs[(rs['HOME TEAM'] == team) | (rs['ROAD TEAM'] == team)]\n",
    "    \n",
    "    win_loss_conditions=[\n",
    "    (team_allGames['HOME TEAM']== team) & (team_allGames['HOME TEAM FINAL SCORE']>team_allGames['ROAD TEAM FINAL SCORE']),\n",
    "       \n",
    "    (team_allGames['HOME TEAM']== team) & (team_allGames['HOME TEAM FINAL SCORE']<team_allGames['ROAD TEAM FINAL SCORE']),\n",
    "        \n",
    "    (team_allGames['ROAD TEAM']== team) & (team_allGames['HOME TEAM FINAL SCORE']<team_allGames['ROAD TEAM FINAL SCORE']),\n",
    "        \n",
    "    (team_allGames['ROAD TEAM']== team) & (team_allGames['HOME TEAM FINAL SCORE']>team_allGames['ROAD TEAM FINAL SCORE'])\n",
    "     \n",
    "    ]\n",
    "    \n",
    "    \n",
    "    win_loss_actionForCondition=['W','L','W','L']\n",
    "    \n",
    "    team_allGames['OUTCOME']=np.select(win_loss_conditions, win_loss_actionForCondition)\n",
    "        \n",
    "    allTeam_allGames_dict[team]=team_allGames\n",
    "   "
   ]
  },
  {
   "cell_type": "code",
   "execution_count": null,
   "metadata": {
    "ExecuteTime": {
     "start_time": "2018-03-01T21:33:24.004Z"
    }
   },
   "outputs": [],
   "source": [
    "allTeam_allGames_dict['Cleveland'].head()"
   ]
  },
  {
   "cell_type": "code",
   "execution_count": null,
   "metadata": {
    "ExecuteTime": {
     "start_time": "2018-03-01T21:33:24.217Z"
    }
   },
   "outputs": [],
   "source": [
    "# Check record of a team to verify correctness\n",
    "\n",
    "allTeam_allGames_dict['Boston']['OUTCOME'].value_counts()"
   ]
  },
  {
   "cell_type": "code",
   "execution_count": null,
   "metadata": {
    "ExecuteTime": {
     "start_time": "2018-03-01T21:33:24.229Z"
    },
    "collapsed": true
   },
   "outputs": [],
   "source": [
    "outcome_boston_list=list(allTeam_allGames_dict['Boston']['OUTCOME'])"
   ]
  },
  {
   "cell_type": "code",
   "execution_count": null,
   "metadata": {
    "ExecuteTime": {
     "start_time": "2018-03-01T21:33:24.240Z"
    }
   },
   "outputs": [],
   "source": [
    "len(outcome_boston_list)"
   ]
  },
  {
   "cell_type": "code",
   "execution_count": null,
   "metadata": {
    "ExecuteTime": {
     "start_time": "2018-03-01T21:33:24.253Z"
    },
    "collapsed": true
   },
   "outputs": [],
   "source": [
    "win_b2b_tally= 0\n",
    "winAfterLoss_tally = 0\n",
    "loss_b2b_tally = 0\n",
    "lossAfterWin_tally = 0\n",
    "\n",
    "\n",
    "for i in range(1,len(outcome_boston_list)):\n",
    "    if (outcome_boston_list[i]=='W') & (outcome_boston_list[i-1]=='W'):\n",
    "        win_b2b_tally += 1\n",
    "    elif (outcome_boston_list[i]=='W') & (outcome_boston_list[i-1]=='L'):\n",
    "        winAfterLoss_tally += 1 \n",
    "    elif (outcome_boston_list[i]=='L') & (outcome_boston_list[i-1]=='L'):\n",
    "        loss_b2b_tally += 1 \n",
    "    #elif (outcome_boston_list[i]=='L') & (outcome_boston_list[i-1]=='W'):\n",
    "     #   lossAfterWin_tally += 1 \n",
    "    else:\n",
    "        lossAfterWin_tally += 1 "
   ]
  },
  {
   "cell_type": "code",
   "execution_count": null,
   "metadata": {
    "ExecuteTime": {
     "start_time": "2018-03-01T21:33:24.266Z"
    }
   },
   "outputs": [],
   "source": [
    "# 32 wins were back-to-back\n",
    "\n",
    "(win_b2b_tally,winAfterLoss_tally,loss_b2b_tally,lossAfterWin_tally)"
   ]
  },
  {
   "cell_type": "code",
   "execution_count": null,
   "metadata": {
    "ExecuteTime": {
     "start_time": "2018-03-01T21:33:24.278Z"
    }
   },
   "outputs": [],
   "source": [
    "# 9 losses were back-to-back\n",
    "\n",
    "loss_b2b_tally"
   ]
  },
  {
   "cell_type": "code",
   "execution_count": null,
   "metadata": {
    "ExecuteTime": {
     "start_time": "2018-03-01T21:33:24.289Z"
    }
   },
   "outputs": [],
   "source": [
    "outcome_boston_list"
   ]
  },
  {
   "cell_type": "code",
   "execution_count": null,
   "metadata": {
    "ExecuteTime": {
     "start_time": "2018-03-01T21:33:24.300Z"
    }
   },
   "outputs": [],
   "source": [
    "allTeam_allGames_dict.keys()"
   ]
  },
  {
   "cell_type": "code",
   "execution_count": null,
   "metadata": {
    "ExecuteTime": {
     "start_time": "2018-03-01T21:33:24.313Z"
    },
    "collapsed": true
   },
   "outputs": [],
   "source": [
    "allTeam_WL_transTally= {}\n",
    "\n",
    "for team in set(allTeam_allGames_dict.keys()):\n",
    "\n",
    "    allTeam_WL_transTally[team]= {}\n",
    "\n",
    "    outcome_list_team = list(allTeam_allGames_dict[team]['OUTCOME'])\n",
    "\n",
    "    win_b2b_tally= 0\n",
    "    winAfterLoss_tally = 0\n",
    "    loss_b2b_tally = 0\n",
    "    lossAfterWin_tally = 0\n",
    "\n",
    "\n",
    "    for i in range(1,len(outcome_list_team)):\n",
    "        if (outcome_list_team[i]=='W') & (outcome_list_team[i-1]=='W'):\n",
    "            win_b2b_tally += 1\n",
    "        elif (outcome_list_team[i]=='W') & (outcome_list_team[i-1]=='L'):\n",
    "            winAfterLoss_tally += 1 \n",
    "        elif (outcome_list_team[i]=='L') & (outcome_list_team[i-1]=='L'):\n",
    "            loss_b2b_tally += 1 \n",
    "        #elif (outcome_boston_list[i]=='L') & (outcome_boston_list[i-1]=='W'):\n",
    "         #   lossAfterWin_tally += 1 \n",
    "        else:\n",
    "            lossAfterWin_tally += 1 \n",
    "            \n",
    "    allTeam_WL_transTally[team]['W_b2b']=win_b2b_tally\n",
    "    allTeam_WL_transTally[team]['W_afterLoss']=winAfterLoss_tally\n",
    "    allTeam_WL_transTally[team]['L_b2b']=loss_b2b_tally\n",
    "    allTeam_WL_transTally[team]['L_afterLoss']=lossAfterWin_tally"
   ]
  },
  {
   "cell_type": "code",
   "execution_count": null,
   "metadata": {
    "ExecuteTime": {
     "start_time": "2018-03-01T21:33:24.324Z"
    }
   },
   "outputs": [],
   "source": [
    "allTeam_WL_transTally['Golden State']"
   ]
  },
  {
   "cell_type": "code",
   "execution_count": null,
   "metadata": {
    "collapsed": true
   },
   "outputs": [],
   "source": []
  }
 ],
 "metadata": {
  "kernelspec": {
   "display_name": "Python 3",
   "language": "python",
   "name": "python3"
  },
  "language_info": {
   "codemirror_mode": {
    "name": "ipython",
    "version": 3
   },
   "file_extension": ".py",
   "mimetype": "text/x-python",
   "name": "python",
   "nbconvert_exporter": "python",
   "pygments_lexer": "ipython3",
   "version": "3.6.1"
  },
  "toc": {
   "nav_menu": {},
   "number_sections": true,
   "sideBar": true,
   "skip_h1_title": false,
   "toc_cell": false,
   "toc_position": {},
   "toc_section_display": "block",
   "toc_window_display": false
  },
  "varInspector": {
   "cols": {
    "lenName": 16,
    "lenType": 16,
    "lenVar": 40
   },
   "kernels_config": {
    "python": {
     "delete_cmd_postfix": "",
     "delete_cmd_prefix": "del ",
     "library": "var_list.py",
     "varRefreshCmd": "print(var_dic_list())"
    },
    "r": {
     "delete_cmd_postfix": ") ",
     "delete_cmd_prefix": "rm(",
     "library": "var_list.r",
     "varRefreshCmd": "cat(var_dic_list()) "
    }
   },
   "position": {
    "height": "269px",
    "left": "393px",
    "right": "20px",
    "top": "269px",
    "width": "639px"
   },
   "types_to_exclude": [
    "module",
    "function",
    "builtin_function_or_method",
    "instance",
    "_Feature"
   ],
   "window_display": false
  }
 },
 "nbformat": 4,
 "nbformat_minor": 2
}
